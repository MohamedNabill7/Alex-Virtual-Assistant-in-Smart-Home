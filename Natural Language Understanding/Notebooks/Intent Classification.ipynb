{
 "cells": [
  {
   "cell_type": "code",
   "execution_count": 1,
   "id": "1d6f537d",
   "metadata": {},
   "outputs": [
    {
     "name": "stderr",
     "output_type": "stream",
     "text": [
      "[nltk_data] Downloading package stopwords to C:\\Users\\Mohamed\n",
      "[nltk_data]     Nabil\\AppData\\Roaming\\nltk_data...\n",
      "[nltk_data]   Unzipping corpora\\stopwords.zip.\n"
     ]
    },
    {
     "data": {
      "text/plain": [
       "True"
      ]
     },
     "execution_count": 1,
     "metadata": {},
     "output_type": "execute_result"
    }
   ],
   "source": [
    "import pandas as pd\n",
    "import numpy as np\n",
    "import matplotlib.pyplot as plt\n",
    "import seaborn as sns\n",
    "from pathlib import Path\n",
    "import re\n",
    "import yaml\n",
    "\n",
    "import nltk \n",
    "from nltk.tokenize import word_tokenize\n",
    "from nltk.corpus import stopwords\n",
    "from nltk.stem import WordNetLemmatizer \n",
    "lemma = WordNetLemmatizer()\n",
    "\n",
    "from sklearn.model_selection import train_test_split \n",
    "from sklearn.preprocessing import OneHotEncoder\n",
    "from sklearn.feature_extraction.text import TfidfTransformer , CountVectorizer\n",
    "from sklearn.metrics import confusion_matrix , accuracy_score \n",
    "from sklearn.pipeline import Pipeline \n",
    "from sklearn.svm import LinearSVC \n",
    "from sklearn.naive_bayes import MultinomialNB \n",
    "\n",
    "from keras.preprocessing.text import Tokenizer \n",
    "from keras.preprocessing.sequence import pad_sequences \n",
    "from keras.models import Sequential\n",
    "from keras.layers import Dense, Dropout , Embedding ,SimpleRNN\n",
    "from keras.callbacks import EarlyStopping \n",
    "\n",
    "from joblib import dump \n",
    "\n",
    "nltk.download('stopwords') # download stopwords"
   ]
  },
  {
   "cell_type": "code",
   "execution_count": 2,
   "id": "9ba46a46",
   "metadata": {},
   "outputs": [],
   "source": [
    "file = Path('..\\data\\intents.yaml') "
   ]
  },
  {
   "cell_type": "code",
   "execution_count": 3,
   "id": "5cb6ccdc",
   "metadata": {},
   "outputs": [
    {
     "data": {
      "text/html": [
       "<div>\n",
       "<style scoped>\n",
       "    .dataframe tbody tr th:only-of-type {\n",
       "        vertical-align: middle;\n",
       "    }\n",
       "\n",
       "    .dataframe tbody tr th {\n",
       "        vertical-align: top;\n",
       "    }\n",
       "\n",
       "    .dataframe thead th {\n",
       "        text-align: right;\n",
       "    }\n",
       "</style>\n",
       "<table border=\"1\" class=\"dataframe\">\n",
       "  <thead>\n",
       "    <tr style=\"text-align: right;\">\n",
       "      <th></th>\n",
       "      <th>Sentence</th>\n",
       "      <th>Intent</th>\n",
       "    </tr>\n",
       "  </thead>\n",
       "  <tbody>\n",
       "    <tr>\n",
       "      <th>418</th>\n",
       "      <td>dim the lights</td>\n",
       "      <td>Iot</td>\n",
       "    </tr>\n",
       "    <tr>\n",
       "      <th>769</th>\n",
       "      <td>how do you make spaghetti</td>\n",
       "      <td>Cooking</td>\n",
       "    </tr>\n",
       "    <tr>\n",
       "      <th>403</th>\n",
       "      <td>make lights brightener</td>\n",
       "      <td>Iot</td>\n",
       "    </tr>\n",
       "    <tr>\n",
       "      <th>960</th>\n",
       "      <td>let me hear the song sympathy for the devil</td>\n",
       "      <td>PlayMusic</td>\n",
       "    </tr>\n",
       "    <tr>\n",
       "      <th>211</th>\n",
       "      <td>what time is it in london now</td>\n",
       "      <td>Datetime</td>\n",
       "    </tr>\n",
       "    <tr>\n",
       "      <th>149</th>\n",
       "      <td>Do you have the time?</td>\n",
       "      <td>Datetime</td>\n",
       "    </tr>\n",
       "    <tr>\n",
       "      <th>1048</th>\n",
       "      <td>i like top forty music</td>\n",
       "      <td>PlayMusic</td>\n",
       "    </tr>\n",
       "    <tr>\n",
       "      <th>227</th>\n",
       "      <td>Is it humid out there today?</td>\n",
       "      <td>Weather</td>\n",
       "    </tr>\n",
       "    <tr>\n",
       "      <th>261</th>\n",
       "      <td>is it going to rain</td>\n",
       "      <td>Weather</td>\n",
       "    </tr>\n",
       "    <tr>\n",
       "      <th>814</th>\n",
       "      <td>what temperature should a baked chicken be</td>\n",
       "      <td>Cooking</td>\n",
       "    </tr>\n",
       "  </tbody>\n",
       "</table>\n",
       "</div>"
      ],
      "text/plain": [
       "                                         Sentence     Intent\n",
       "418                                dim the lights        Iot\n",
       "769                     how do you make spaghetti    Cooking\n",
       "403                        make lights brightener        Iot\n",
       "960   let me hear the song sympathy for the devil  PlayMusic\n",
       "211                 what time is it in london now   Datetime\n",
       "149                         Do you have the time?   Datetime\n",
       "1048                       i like top forty music  PlayMusic\n",
       "227                  Is it humid out there today?    Weather\n",
       "261                           is it going to rain    Weather\n",
       "814    what temperature should a baked chicken be    Cooking"
      ]
     },
     "execution_count": 3,
     "metadata": {},
     "output_type": "execute_result"
    }
   ],
   "source": [
    "patterns_lst = []\n",
    "tags_lst = []\n",
    "\n",
    "\n",
    "# Read data from file\n",
    "data_file = open(file).read()\n",
    "intents = yaml.safe_load(data_file)\n",
    "\n",
    "for intent in intents['intent']:\n",
    "    for pattern in intent['patterns']:\n",
    "        patterns_lst.append(pattern)\n",
    "        tags_lst.append(intent['tag'])\n",
    "        \n",
    "dataset = {'Sentence':patterns_lst , 'Intent':tags_lst}\n",
    "\n",
    "# Create dataframe\n",
    "df = pd.DataFrame(data=dataset)\n",
    "df.sample(10)"
   ]
  },
  {
   "cell_type": "code",
   "execution_count": 4,
   "id": "e6e9bcc1",
   "metadata": {},
   "outputs": [
    {
     "data": {
      "text/plain": [
       "(1298, 2)"
      ]
     },
     "execution_count": 4,
     "metadata": {},
     "output_type": "execute_result"
    }
   ],
   "source": [
    "df.shape"
   ]
  },
  {
   "cell_type": "code",
   "execution_count": 5,
   "id": "c33c7c48",
   "metadata": {},
   "outputs": [
    {
     "name": "stdout",
     "output_type": "stream",
     "text": [
      "<class 'pandas.core.frame.DataFrame'>\n",
      "RangeIndex: 1298 entries, 0 to 1297\n",
      "Data columns (total 2 columns):\n",
      " #   Column    Non-Null Count  Dtype \n",
      "---  ------    --------------  ----- \n",
      " 0   Sentence  1298 non-null   object\n",
      " 1   Intent    1298 non-null   object\n",
      "dtypes: object(2)\n",
      "memory usage: 20.4+ KB\n"
     ]
    }
   ],
   "source": [
    "df.info()"
   ]
  },
  {
   "cell_type": "code",
   "execution_count": 6,
   "id": "9bc1f8e1",
   "metadata": {},
   "outputs": [
    {
     "name": "stdout",
     "output_type": "stream",
     "text": [
      "Number of unique sentences: 1237\n"
     ]
    }
   ],
   "source": [
    "print('Number of unique sentences:' , df['Sentence'].nunique())"
   ]
  },
  {
   "cell_type": "code",
   "execution_count": 7,
   "id": "8ac0d179",
   "metadata": {},
   "outputs": [
    {
     "name": "stdout",
     "output_type": "stream",
     "text": [
      "Number of intents: 11\n"
     ]
    }
   ],
   "source": [
    "print('Number of intents:' , df['Intent'].nunique())"
   ]
  },
  {
   "cell_type": "code",
   "execution_count": 8,
   "id": "3c45e491",
   "metadata": {},
   "outputs": [
    {
     "data": {
      "text/plain": [
       "['Cooking',\n",
       " 'Datetime',\n",
       " 'Goodbye',\n",
       " 'Greeting',\n",
       " 'Iot',\n",
       " 'Joke',\n",
       " 'News',\n",
       " 'PlayMusic',\n",
       " 'Reminder',\n",
       " 'Thanks',\n",
       " 'Weather']"
      ]
     },
     "execution_count": 8,
     "metadata": {},
     "output_type": "execute_result"
    }
   ],
   "source": [
    "classes = sorted(list(set(df['Intent'])))\n",
    "classes         "
   ]
  },
  {
   "cell_type": "code",
   "execution_count": 9,
   "id": "c87bd1f9",
   "metadata": {},
   "outputs": [
    {
     "data": {
      "image/png": "[encoded data removed]",
      "text/plain": [
       "<Figure size 864x648 with 1 Axes>"
      ]
     },
     "metadata": {
      "needs_background": "light"
     },
     "output_type": "display_data"
    }
   ],
   "source": [
    "plt.figure(figsize=(12,9))\n",
    "sns.countplot(x = 'Intent' , data = df)\n",
    "plt.xticks(rotation=45)\n",
    "plt.ylabel('Number of Sentences')\n",
    "plt.show()"
   ]
  },
  {
   "cell_type": "code",
   "execution_count": 10,
   "id": "c8454681",
   "metadata": {},
   "outputs": [],
   "source": [
    "def preprocess(dataframe):\n",
    "    data = []\n",
    "    for i in range(dataframe.shape[0]):\n",
    "        sentence = dataframe.iloc[i, 0]\n",
    "\n",
    "        # remove non alphabatic characters\n",
    "        sentence = re.sub('[^A-Za-z]', ' ', sentence)\n",
    "\n",
    "        # make words lowercase\n",
    "        sentence = sentence.lower()\n",
    "\n",
    "        # tokenize words\n",
    "        tokenized_sentence = word_tokenize(sentence)\n",
    "\n",
    "        # remove stop words and lemmatize\n",
    "        sentence_processed = []\n",
    "        \n",
    "        for word in tokenized_sentence:\n",
    "            if word not in set(stopwords.words('english')):\n",
    "                sentence_processed.append(lemma.lemmatize(word , pos='n')) # lemmatize words with noun  \n",
    "\n",
    "        sentence_text = \" \".join([lemma.lemmatize(word, pos='v') for word in sentence_processed]) # lemmatize words with verb \n",
    "        data.append(sentence_text)\n",
    "    \n",
    "    return data"
   ]
  },
  {
   "cell_type": "markdown",
   "id": "3476413b",
   "metadata": {},
   "source": [
    "## ML Model\n"
   ]
  },
  {
   "cell_type": "code",
   "execution_count": 11,
   "id": "1ec1ed81",
   "metadata": {},
   "outputs": [],
   "source": [
    "X = preprocess(df)\n",
    "y = df.iloc[:, 1]"
   ]
  },
  {
   "cell_type": "code",
   "execution_count": 12,
   "id": "85c089d3",
   "metadata": {},
   "outputs": [],
   "source": [
    "X_train, X_test, y_train, y_test = train_test_split(X , y, test_size=0.2 , random_state=0 , stratify=y ,shuffle=True)"
   ]
  },
  {
   "cell_type": "code",
   "execution_count": 13,
   "id": "45cba496",
   "metadata": {},
   "outputs": [
    {
     "name": "stdout",
     "output_type": "stream",
     "text": [
      "Training Accuracy: 99.33 %\n",
      "Testing Accuracy: 98.85 %\n"
     ]
    }
   ],
   "source": [
    "svc_model = Pipeline([   ('vect', CountVectorizer(ngram_range=(1,2),max_features=1000,max_df=.70)),\n",
    "                         ('tfidf', TfidfTransformer()),\n",
    "                         ('clf', LinearSVC(random_state=0, tol=1e-5))\n",
    "                     ]\n",
    "                    )\n",
    "\n",
    "svc_model.fit(X_train, y_train)\n",
    "\n",
    "y_pred = svc_model.predict(X_test)\n",
    "\n",
    "print('Training Accuracy:',round(svc_model.score(X_train,y_train)*100,2),'%')\n",
    "print('Testing Accuracy:',round(accuracy_score(y_test,y_pred)*100,2),'%')"
   ]
  },
  {
   "cell_type": "code",
   "execution_count": 14,
   "id": "b7329589",
   "metadata": {},
   "outputs": [
    {
     "data": {
      "image/png": "[encoded data removed]",
      "text/plain": [
       "<Figure size 720x576 with 2 Axes>"
      ]
     },
     "metadata": {
      "needs_background": "light"
     },
     "output_type": "display_data"
    }
   ],
   "source": [
    "matrix = confusion_matrix(y_test,y_pred)\n",
    "\n",
    "plt.figure(figsize=(10,8))\n",
    "ax = sns.heatmap(matrix, annot=True, cmap='Blues')\n",
    "\n",
    "ax.set_title('Confusion Matrix by Linear SVC Model\\n\\n');\n",
    "ax.set_xlabel('\\nPredicted Sentence Category')\n",
    "ax.set_ylabel('Actual Sentence Category');\n",
    "\n",
    "ax.xaxis.set_ticklabels(classes)\n",
    "ax.yaxis.set_ticklabels(classes)\n",
    "\n",
    "plt.xticks(rotation=45)\n",
    "plt.yticks(rotation=45)\n",
    "\n",
    "plt.show()"
   ]
  },
  {
   "cell_type": "code",
   "execution_count": 15,
   "id": "db7a1481",
   "metadata": {},
   "outputs": [
    {
     "name": "stdout",
     "output_type": "stream",
     "text": [
      "Training Accuracy: 99.33 %\n",
      "Testing Accuracy: 93.85 %\n"
     ]
    }
   ],
   "source": [
    "nb_model = Pipeline([    ('vect', CountVectorizer(ngram_range=(1,2),max_df=.70)),\n",
    "                         ('tfidf', TfidfTransformer()),\n",
    "                         ('nb', MultinomialNB())\n",
    "                    ]\n",
    "                   )\n",
    "\n",
    "nb_model.fit(X_train, y_train)\n",
    "\n",
    "y_pred = nb_model.predict(X_test)\n",
    "\n",
    "print('Training Accuracy:',round(svc_model.score(X_train,y_train)*100,2),'%')\n",
    "print('Testing Accuracy:',round(accuracy_score(y_test,y_pred)*100,2),'%')"
   ]
  },
  {
   "cell_type": "code",
   "execution_count": 16,
   "id": "ef02593a",
   "metadata": {},
   "outputs": [
    {
     "data": {
      "image/png": "[encoded data removed]",
      "text/plain": [
       "<Figure size 720x576 with 2 Axes>"
      ]
     },
     "metadata": {
      "needs_background": "light"
     },
     "output_type": "display_data"
    }
   ],
   "source": [
    "matrix = confusion_matrix(y_test,y_pred)\n",
    "\n",
    "plt.figure(figsize=(10,8))\n",
    "ax = sns.heatmap(matrix, annot=True, cmap='Blues')\n",
    "\n",
    "ax.set_title('Confusion Matrix by MultinomialNB Model\\n\\n');\n",
    "ax.set_xlabel('\\nPredicted Sentence Category')\n",
    "ax.set_ylabel('Actual Sentence Category');\n",
    "\n",
    "ax.xaxis.set_ticklabels(classes)\n",
    "ax.yaxis.set_ticklabels(classes)\n",
    "\n",
    "plt.xticks(rotation=45)\n",
    "plt.yticks(rotation=45)\n",
    "\n",
    "plt.show()"
   ]
  },
  {
   "cell_type": "code",
   "execution_count": 17,
   "id": "a3a2a38a",
   "metadata": {},
   "outputs": [
    {
     "data": {
      "text/plain": [
       "['SVC_Model.joblib']"
      ]
     },
     "execution_count": 17,
     "metadata": {},
     "output_type": "execute_result"
    }
   ],
   "source": [
    "# dump the pipeline model\n",
    "dump(svc_model, filename=\"SVC_Model.joblib\")"
   ]
  },
  {
   "cell_type": "markdown",
   "id": "6a440ff1",
   "metadata": {},
   "source": [
    "## DL Model"
   ]
  },
  {
   "cell_type": "markdown",
   "id": "a24d01e0",
   "metadata": {},
   "source": [
    "### Using BOW Model"
   ]
  },
  {
   "cell_type": "markdown",
   "id": "e17cd00a",
   "metadata": {},
   "source": [
    "##### Transforming texts into vectors\n",
    "##### Vocabulary Vector\n",
    "    Vocabulary is a mapping (dict) from words to indices (integers). It represents ALL the words in a language. But it's hard to get ALL words,\n",
    "    so we count only what we have in a dataset/corpus.Since we don't account for all words, we might encounter \n",
    "    Out-Of-Vocab words which we dont know a mapping for. So we usually reserve a special token index for UNKnown words.\n",
    "\n",
    "#### Using Keras Tokenizer to convert a sequence of words into integers."
   ]
  },
  {
   "cell_type": "code",
   "execution_count": 18,
   "id": "bf5207bd",
   "metadata": {},
   "outputs": [
    {
     "data": {
      "text/plain": [
       "{'please': 1,\n",
       " 'play': 2,\n",
       " 'news': 3,\n",
       " 'light': 4,\n",
       " 'tell': 5,\n",
       " 'weather': 6,\n",
       " 'today': 7,\n",
       " 'time': 8,\n",
       " 'music': 9,\n",
       " 'alarm': 10,\n",
       " 'turn': 11,\n",
       " 'set': 12,\n",
       " 'recipe': 13,\n",
       " 'make': 14,\n",
       " 'song': 15,\n",
       " 'latest': 16,\n",
       " 'cook': 17,\n",
       " 'go': 18,\n",
       " 'like': 19,\n",
       " 'bedroom': 20,\n",
       " 'week': 21,\n",
       " 'room': 22,\n",
       " 'want': 23,\n",
       " 'need': 24,\n",
       " 'show': 25,\n",
       " 'playlist': 26,\n",
       " 'joke': 27,\n",
       " 'thank': 28,\n",
       " 'new': 29,\n",
       " 'tomorrow': 30,\n",
       " 'brightness': 31,\n",
       " 'event': 32,\n",
       " 'find': 33,\n",
       " 'live': 34,\n",
       " 'good': 35,\n",
       " 'day': 36,\n",
       " 'next': 37,\n",
       " 'current': 38,\n",
       " 'date': 39,\n",
       " 'chicken': 40,\n",
       " 'know': 41,\n",
       " 'give': 42,\n",
       " 'whats': 43,\n",
       " 'put': 44,\n",
       " 'happen': 45,\n",
       " 'meet': 46,\n",
       " 'hear': 47,\n",
       " 'right': 48,\n",
       " 'read': 49,\n",
       " 'morning': 50,\n",
       " 'forecast': 51,\n",
       " 'get': 52,\n",
       " 'world': 53,\n",
       " 'let': 54,\n",
       " 'temperature': 55,\n",
       " 'heat': 56,\n",
       " 'calendar': 57,\n",
       " 'headline': 58,\n",
       " 'rock': 59,\n",
       " 'jazz': 60,\n",
       " 'listen': 61,\n",
       " 'york': 62,\n",
       " 'medium': 63,\n",
       " 'talk': 64,\n",
       " 'bbc': 65,\n",
       " 'call': 66,\n",
       " 'remind': 67,\n",
       " 'outside': 68,\n",
       " 'add': 69,\n",
       " 'remove': 70,\n",
       " 'would': 71,\n",
       " 'pm': 72,\n",
       " 'pasta': 73,\n",
       " 'schedule': 74,\n",
       " 'fan': 75,\n",
       " 'business': 76,\n",
       " 'help': 77,\n",
       " 'rain': 78,\n",
       " 'check': 79,\n",
       " 'open': 80,\n",
       " 'close': 81,\n",
       " 'level': 82,\n",
       " 'sport': 83,\n",
       " 'see': 84,\n",
       " 'six': 85,\n",
       " 'curtain': 86,\n",
       " 'spaghetti': 87,\n",
       " 'wake': 88,\n",
       " 'hey': 89,\n",
       " 'later': 90,\n",
       " 'nice': 91,\n",
       " 'funny': 92,\n",
       " 'tonight': 93,\n",
       " 'two': 94,\n",
       " 'friday': 95,\n",
       " 'dim': 96,\n",
       " 'blue': 97,\n",
       " 'high': 98,\n",
       " 'thirty': 99,\n",
       " 'degree': 100,\n",
       " 'celsius': 101,\n",
       " 'meal': 102,\n",
       " 'beatles': 103,\n",
       " 'much': 104,\n",
       " 'many': 105,\n",
       " 'update': 106,\n",
       " 'lower': 107,\n",
       " 'increase': 108,\n",
       " 'politics': 109,\n",
       " 'long': 110,\n",
       " 'egg': 111,\n",
       " 'rice': 112,\n",
       " 'meatball': 113,\n",
       " 'shuffle': 114,\n",
       " 'five': 115,\n",
       " 'reminder': 116,\n",
       " 'timer': 117,\n",
       " 'hi': 118,\n",
       " 'leo': 119,\n",
       " 'bye': 120,\n",
       " 'around': 121,\n",
       " 'something': 122,\n",
       " 'could': 123,\n",
       " 'three': 124,\n",
       " 'march': 125,\n",
       " 'door': 126,\n",
       " 'reduce': 127,\n",
       " 'switch': 128,\n",
       " 'top': 129,\n",
       " 'africa': 130,\n",
       " 'cnn': 131,\n",
       " 'boil': 132,\n",
       " 'ingredient': 133,\n",
       " 'workout': 134,\n",
       " 'lady': 135,\n",
       " 'gaga': 136,\n",
       " 'rap': 137,\n",
       " 'start': 138,\n",
       " 'delete': 139,\n",
       " 'appreciate': 140,\n",
       " 'answer': 141,\n",
       " 'monday': 142,\n",
       " 'look': 143,\n",
       " 'condition': 144,\n",
       " 'weekend': 145,\n",
       " 'low': 146,\n",
       " 'socket': 147,\n",
       " 'change': 148,\n",
       " 'story': 149,\n",
       " 'technology': 150,\n",
       " 'break': 151,\n",
       " 'pull': 152,\n",
       " 'list': 153,\n",
       " 'steak': 154,\n",
       " 'pizza': 155,\n",
       " 'cooky': 156,\n",
       " 'potato': 157,\n",
       " 'favorite': 158,\n",
       " 'repeat': 159,\n",
       " 'taylor': 160,\n",
       " 'swift': 161,\n",
       " 'bruno': 162,\n",
       " 'mar': 163,\n",
       " 'genre': 164,\n",
       " 'hour': 165,\n",
       " 'appointment': 166,\n",
       " 'hello': 167,\n",
       " 'even': 168,\n",
       " 'night': 169,\n",
       " 'take': 170,\n",
       " 'love': 171,\n",
       " 'year': 172,\n",
       " 'twenty': 173,\n",
       " 'come': 174,\n",
       " 'first': 175,\n",
       " 'tokyo': 176,\n",
       " 'chicago': 177,\n",
       " 'london': 178,\n",
       " 'month': 179,\n",
       " 'type': 180,\n",
       " 'cloudy': 181,\n",
       " 'place': 182,\n",
       " 'cold': 183,\n",
       " 'hot': 184,\n",
       " 'speed': 185,\n",
       " 'snow': 186,\n",
       " 'thursday': 187,\n",
       " 'seven': 188,\n",
       " 'bathroom': 189,\n",
       " 'kitchen': 190,\n",
       " 'window': 191,\n",
       " 'decrease': 192,\n",
       " 'brighter': 193,\n",
       " 'house': 194,\n",
       " 'newest': 195,\n",
       " 'dinner': 196,\n",
       " 'cheese': 197,\n",
       " 'lasagna': 198,\n",
       " 'taco': 199,\n",
       " 'beef': 200,\n",
       " 'cake': 201,\n",
       " 'fry': 202,\n",
       " 'mash': 203,\n",
       " 'alfredo': 204,\n",
       " 'create': 205,\n",
       " 'artist': 206,\n",
       " 'track': 207,\n",
       " 'hip': 208,\n",
       " 'hop': 209,\n",
       " 'one': 210,\n",
       " 'cancel': 211,\n",
       " 'minute': 212,\n",
       " 'eight': 213,\n",
       " 'calender': 214,\n",
       " 'speak': 215,\n",
       " 'great': 216,\n",
       " 'grateful': 217,\n",
       " 'really': 218,\n",
       " 'laugh': 219,\n",
       " 'washington': 220,\n",
       " 'u': 221,\n",
       " 'april': 222,\n",
       " 'australia': 223,\n",
       " 'tuesday': 224,\n",
       " 'warm': 225,\n",
       " 'sunny': 226,\n",
       " 'expect': 227,\n",
       " 'wednesday': 228,\n",
       " 'whether': 229,\n",
       " 'climate': 230,\n",
       " 'percent': 231,\n",
       " 'adjust': 232,\n",
       " 'le': 233,\n",
       " 'bright': 234,\n",
       " 'plug': 235,\n",
       " 'bring': 236,\n",
       " 'pink': 237,\n",
       " 'shut': 238,\n",
       " 'europe': 239,\n",
       " 'political': 240,\n",
       " 'market': 241,\n",
       " 'line': 242,\n",
       " 'article': 243,\n",
       " 'popular': 244,\n",
       " 'international': 245,\n",
       " 'trend': 246,\n",
       " 'science': 247,\n",
       " 'anything': 248,\n",
       " 'food': 249,\n",
       " 'hard': 250,\n",
       " 'lunch': 251,\n",
       " 'soup': 252,\n",
       " 'butter': 253,\n",
       " 'sausage': 254,\n",
       " 'pancake': 255,\n",
       " 'sushi': 256,\n",
       " 'stroganoff': 257,\n",
       " 'prepare': 258,\n",
       " 'yellow': 259,\n",
       " 'bake': 260,\n",
       " 'tikka': 261,\n",
       " 'crabmeat': 262,\n",
       " 'turkey': 263,\n",
       " 'apple': 264,\n",
       " 'pie': 265,\n",
       " 'maroon': 266,\n",
       " 'classical': 267,\n",
       " 'classic': 268,\n",
       " 'justin': 269,\n",
       " 'metal': 270,\n",
       " 'post': 271,\n",
       " 'pop': 272,\n",
       " 'dance': 273,\n",
       " 'note': 274,\n",
       " 'john': 275,\n",
       " 'nine': 276,\n",
       " 'ten': 277,\n",
       " 'doctor': 278,\n",
       " 'birthday': 279,\n",
       " 'okay': 280,\n",
       " 'enjoy': 281,\n",
       " 'lovely': 282,\n",
       " 'catch': 283,\n",
       " 'glad': 284,\n",
       " 'soon': 285,\n",
       " 'easy': 286,\n",
       " 'awesome': 287,\n",
       " 'job': 288,\n",
       " 'lot': 289,\n",
       " 'information': 290,\n",
       " 'work': 291,\n",
       " 'provide': 292,\n",
       " 'say': 293,\n",
       " 'na': 294,\n",
       " 'exact': 295,\n",
       " 'yet': 296,\n",
       " 'moscow': 297,\n",
       " 'cairo': 298,\n",
       " 'paris': 299,\n",
       " 'germany': 300,\n",
       " 'india': 301,\n",
       " 'hong': 302,\n",
       " 'kong': 303,\n",
       " 'miami': 304,\n",
       " 'moment': 305,\n",
       " 'park': 306,\n",
       " 'upcoming': 307,\n",
       " 'kind': 308,\n",
       " 'report': 309,\n",
       " 'windy': 310,\n",
       " 'wind': 311,\n",
       " 'area': 312,\n",
       " 'weekly': 313,\n",
       " 'feel': 314,\n",
       " 'forcast': 315,\n",
       " 'local': 316,\n",
       " 'think': 317,\n",
       " 'reception': 318,\n",
       " 'higher': 319,\n",
       " 'fifty': 320,\n",
       " 'friendly': 321,\n",
       " 'garage': 322,\n",
       " 'control': 323,\n",
       " 'charge': 324,\n",
       " 'different': 325,\n",
       " 'middle': 326,\n",
       " 'east': 327,\n",
       " 'asia': 328,\n",
       " 'usa': 329,\n",
       " 'relate': 330,\n",
       " 'stock': 331,\n",
       " 'important': 332,\n",
       " 'head': 333,\n",
       " 'another': 334,\n",
       " 'lately': 335,\n",
       " 'topic': 336,\n",
       " 'search': 337,\n",
       " 'recently': 338,\n",
       " 'keep': 339,\n",
       " 'suggest': 340,\n",
       " 'soft': 341,\n",
       " 'cheescake': 342,\n",
       " 'way': 343,\n",
       " 'vegetable': 344,\n",
       " 'romantic': 345,\n",
       " 'chocolate': 346,\n",
       " 'method': 347,\n",
       " 'icecream': 348,\n",
       " 'homemade': 349,\n",
       " 'omelette': 350,\n",
       " 'burger': 351,\n",
       " 'roll': 352,\n",
       " 'cup': 353,\n",
       " 'tuna': 354,\n",
       " 'casserole': 355,\n",
       " 'squash': 356,\n",
       " 'integrent': 357,\n",
       " 'meatloaf': 358,\n",
       " 'noodle': 359,\n",
       " 'use': 360,\n",
       " 'google': 361,\n",
       " 'dish': 362,\n",
       " 'sunday': 363,\n",
       " 'coldplay': 364,\n",
       " 'may': 365,\n",
       " 'disco': 366,\n",
       " 'thug': 367,\n",
       " 'believer': 368,\n",
       " 'beyonce': 369,\n",
       " 'elvis': 370,\n",
       " 'korn': 371,\n",
       " 'eminem': 372,\n",
       " 'forty': 373,\n",
       " 'mura': 374,\n",
       " 'masa': 375,\n",
       " 'twelve': 376,\n",
       " 'madonna': 377,\n",
       " 'michael': 378,\n",
       " 'jackson': 379,\n",
       " 'party': 380,\n",
       " 'joy': 381,\n",
       " 'division': 382,\n",
       " 'hundred': 383,\n",
       " 'album': 384,\n",
       " 'continue': 385,\n",
       " 'skip': 386,\n",
       " 'happy': 387,\n",
       " 'ella': 388,\n",
       " 'active': 389,\n",
       " 'every': 390,\n",
       " 'clock': 391,\n",
       " 'four': 392,\n",
       " 'afternoon': 393,\n",
       " 'flight': 394,\n",
       " 'mom': 395,\n",
       " 'july': 396,\n",
       " 'detail': 397,\n",
       " 'person': 398,\n",
       " 'anyone': 399,\n",
       " 'hola': 400,\n",
       " 'aloha': 401,\n",
       " 'bonjour': 402,\n",
       " 'whatsapp': 403,\n",
       " 'goodbye': 404,\n",
       " 'till': 405,\n",
       " 'fun': 406,\n",
       " 'pleasure': 407,\n",
       " 'ya': 408,\n",
       " 'always': 409,\n",
       " 'converse': 410,\n",
       " 'ill': 411,\n",
       " 'cool': 412,\n",
       " 'helpful': 413,\n",
       " 'assistance': 414,\n",
       " 'kindly': 415,\n",
       " 'info': 416,\n",
       " 'excellent': 417,\n",
       " 'short': 418,\n",
       " 'entertain': 419,\n",
       " 'funniest': 420,\n",
       " 'share': 421,\n",
       " 'comic': 422,\n",
       " 'relief': 423,\n",
       " 'hit': 424,\n",
       " 'wan': 425,\n",
       " 'excuse': 426,\n",
       " 'leave': 427,\n",
       " 'eve': 428,\n",
       " 'memorial': 429,\n",
       " 'second': 430,\n",
       " 'ninth': 431,\n",
       " 'dubai': 432,\n",
       " 'china': 433,\n",
       " 'relative': 434,\n",
       " 'ottawa': 435,\n",
       " 'dallas': 436,\n",
       " 'texas': 437,\n",
       " 'los': 438,\n",
       " 'angel': 439,\n",
       " 'zone': 440,\n",
       " 'florida': 441,\n",
       " 'california': 442,\n",
       " 'hows': 443,\n",
       " 'berlin': 444,\n",
       " 'humid': 445,\n",
       " 'fall': 446,\n",
       " 'build': 447,\n",
       " 'snowman': 448,\n",
       " 'thunderstorm': 449,\n",
       " 'carry': 450,\n",
       " 'umbrella': 451,\n",
       " 'jacket': 452,\n",
       " 'near': 453,\n",
       " 'highest': 454,\n",
       " 'gon': 455,\n",
       " 'zagazig': 456,\n",
       " 'freeze': 457,\n",
       " 'tornado': 458,\n",
       " 'predict': 459,\n",
       " 'suppose': 460,\n",
       " 'georgia': 461,\n",
       " 'calm': 462,\n",
       " 'austin': 463,\n",
       " 'minimum': 464,\n",
       " 'bite': 465,\n",
       " 'suitable': 466,\n",
       " 'hall': 467,\n",
       " 'darker': 468,\n",
       " 'brightener': 469,\n",
       " 'watch': 470,\n",
       " 'shine': 471,\n",
       " 'main': 472,\n",
       " 'kitchenn': 473,\n",
       " 'wemo': 474,\n",
       " 'little': 475,\n",
       " 'everything': 476,\n",
       " 'darken': 477,\n",
       " 'power': 478,\n",
       " 'lamp': 479,\n",
       " 'phone': 480,\n",
       " 'tv': 481,\n",
       " 'arrive': 482,\n",
       " 'home': 483,\n",
       " 'cellphone': 484,\n",
       " 'brighten': 485,\n",
       " 'deactive': 486,\n",
       " 'color': 487,\n",
       " 'hue': 488,\n",
       " 'raise': 489,\n",
       " 'academy': 490,\n",
       " 'award': 491,\n",
       " 'ireland': 492,\n",
       " 'yes': 493,\n",
       " 'ccn': 494,\n",
       " 'election': 495,\n",
       " 'newspaper': 496,\n",
       " 'finance': 497,\n",
       " 'detroit': 498,\n",
       " 'title': 499,\n",
       " 'european': 500,\n",
       " 'game': 501,\n",
       " 'recent': 502,\n",
       " 'newsource': 503,\n",
       " 'app': 504,\n",
       " 'stuff': 505,\n",
       " 'subject': 506,\n",
       " 'front': 507,\n",
       " 'page': 508,\n",
       " 'abut': 509,\n",
       " 'trade': 510,\n",
       " 'france': 511,\n",
       " 'importance': 512,\n",
       " 'entertainment': 513,\n",
       " 'space': 514,\n",
       " 'exploration': 515,\n",
       " 'canada': 516,\n",
       " 'ute': 517,\n",
       " 'fresh': 518,\n",
       " 'donald': 519,\n",
       " 'trump': 520,\n",
       " 'healthy': 521,\n",
       " 'superb': 522,\n",
       " 'better': 523,\n",
       " 'tomato': 524,\n",
       " 'easiest': 525,\n",
       " 'recipie': 526,\n",
       " 'best': 527,\n",
       " 'pudding': 528,\n",
       " 'broccoli': 529,\n",
       " 'teach': 530,\n",
       " 'divan': 531,\n",
       " 'chip': 532,\n",
       " 'salsa': 533,\n",
       " 'cheesecake': 534,\n",
       " 'ice': 535,\n",
       " 'cream': 536,\n",
       " 'kransky': 537,\n",
       " 'perfect': 538,\n",
       " 'doughnut': 539,\n",
       " 'oat': 540,\n",
       " 'cookie': 541,\n",
       " 'falafel': 542,\n",
       " 'sause': 543,\n",
       " 'garlic': 544,\n",
       " 'bread': 545,\n",
       " 'rise': 546,\n",
       " 'recepie': 547,\n",
       " 'instruct': 548,\n",
       " 'tutorial': 549,\n",
       " 'gallon': 550,\n",
       " 'video': 551,\n",
       " 'indian': 552,\n",
       " 'rare': 553,\n",
       " 'vegetarian': 554,\n",
       " 'barbecue': 555,\n",
       " 'well': 556,\n",
       " 'macaroni': 557,\n",
       " 'roast': 558,\n",
       " 'breast': 559,\n",
       " 'lasagne': 560,\n",
       " 'eat': 561,\n",
       " 'sweet': 562,\n",
       " 'green': 563,\n",
       " 'raw': 564,\n",
       " 'pint': 565,\n",
       " 'braise': 566,\n",
       " 'pork': 567,\n",
       " 'loin': 568,\n",
       " 'german': 569,\n",
       " 'bbq': 570,\n",
       " 'scratch': 571,\n",
       " 'together': 572,\n",
       " 'deglaze': 573,\n",
       " 'pan': 574,\n",
       " 'marsala': 575,\n",
       " 'lamb': 576,\n",
       " 'pathia': 577,\n",
       " 'souffle': 578,\n",
       " 'procedure': 579,\n",
       " 'course': 580,\n",
       " 'step': 581,\n",
       " 'instruction': 582,\n",
       " 'us': 583,\n",
       " 'grind': 584,\n",
       " 'zucchini': 585,\n",
       " 'substitute': 586,\n",
       " 'non': 587,\n",
       " 'dairy': 588,\n",
       " 'poach': 589,\n",
       " 'maccoroni': 590,\n",
       " 'oven': 591,\n",
       " 'buttermilk': 592,\n",
       " 'milk': 593,\n",
       " 'calorie': 594,\n",
       " 'breakfast': 595,\n",
       " 'american': 596,\n",
       " 'style': 597,\n",
       " 'italian': 598,\n",
       " 'select': 599,\n",
       " 'fast': 600,\n",
       " 'l': 601,\n",
       " 'peanut': 602,\n",
       " 'burrito': 603,\n",
       " 'hotdog': 604,\n",
       " 'mohamed': 605,\n",
       " 'mounir': 606,\n",
       " 'billie': 607,\n",
       " 'eilish': 608,\n",
       " 'sing': 609,\n",
       " 'david': 610,\n",
       " 'bowie': 611,\n",
       " 'floyd': 612,\n",
       " 'van': 613,\n",
       " 'halen': 614,\n",
       " 'net': 615,\n",
       " 'bluegrass': 616,\n",
       " 'celine': 617,\n",
       " 'dion': 618,\n",
       " 'bieber': 619,\n",
       " 'favourite': 620,\n",
       " 'siri': 621,\n",
       " 'shahyn': 622,\n",
       " 'randomly': 623,\n",
       " 'plesse': 624,\n",
       " 'save': 625,\n",
       " 'beibers': 626,\n",
       " 'last': 627,\n",
       " 'sympathy': 628,\n",
       " 'devil': 629,\n",
       " 'penny': 630,\n",
       " 'lane': 631,\n",
       " 'satisfaction': 632,\n",
       " 'mafia': 633,\n",
       " 'fleet': 634,\n",
       " 'fox': 635,\n",
       " 'cloud': 636,\n",
       " 'smooth': 637,\n",
       " 'martina': 638,\n",
       " 'mcbride': 639,\n",
       " 'melody': 640,\n",
       " 'walk': 641,\n",
       " 'johnny': 642,\n",
       " 'cash': 643,\n",
       " 'notorious': 644,\n",
       " 'bone': 645,\n",
       " 'kenny': 646,\n",
       " 'rogers': 647,\n",
       " 'closer': 648,\n",
       " 'beach': 649,\n",
       " 'slow': 650,\n",
       " 'magic': 651,\n",
       " 'bob': 652,\n",
       " 'dylan': 653,\n",
       " 'lead': 654,\n",
       " 'zeppelin': 655,\n",
       " 'stone': 656,\n",
       " 'mix': 657,\n",
       " 'noise': 658,\n",
       " 'blood': 659,\n",
       " 'brother': 660,\n",
       " 'tiny': 661,\n",
       " 'dancer': 662,\n",
       " 'baby': 663,\n",
       " 'shark': 664,\n",
       " 'wreckless': 665,\n",
       " 'ceiling': 666,\n",
       " 'oldschool': 667,\n",
       " 'linkin': 668,\n",
       " 'scientist': 669,\n",
       " 'gravity': 670,\n",
       " 'aaron': 671,\n",
       " 'carter': 672,\n",
       " 'daily': 673,\n",
       " 'radiohead': 674,\n",
       " 'mock': 675,\n",
       " 'bird': 676,\n",
       " 'groovy': 677,\n",
       " 'tune': 678,\n",
       " 'selection': 679,\n",
       " 'motown': 680,\n",
       " 'oboe': 681,\n",
       " 'piece': 682,\n",
       " 'alt': 683,\n",
       " 'firefly': 684,\n",
       " 'mp': 685,\n",
       " 'previous': 686,\n",
       " 'ilayaraja': 687,\n",
       " 'gavenda': 688,\n",
       " 'frubs': 689,\n",
       " 'folk': 690,\n",
       " 'hate': 691,\n",
       " 'thousand': 692,\n",
       " 'rush': 693,\n",
       " 'p': 694,\n",
       " 'band': 695,\n",
       " 'hungry': 696,\n",
       " 'eye': 697,\n",
       " 'fitzgeral': 698,\n",
       " 'elton': 699,\n",
       " 'shake': 700,\n",
       " 'yoga': 701,\n",
       " 'latin': 702,\n",
       " 'fitzgerald': 703,\n",
       " 'katy': 704,\n",
       " 'perry': 705,\n",
       " 'bjork': 706,\n",
       " 'fire': 707,\n",
       " 'fly': 708,\n",
       " 'lose': 709,\n",
       " 'skyfall': 710,\n",
       " 'gold': 711,\n",
       " 'digger': 712,\n",
       " 'queue': 713,\n",
       " 'weekday': 714,\n",
       " 'half': 715,\n",
       " 'school': 716,\n",
       " 'checkout': 717,\n",
       " 'alert': 718,\n",
       " 'concert': 719,\n",
       " 'disable': 720,\n",
       " 'li': 721,\n",
       " 'albert': 722,\n",
       " 'chat': 723,\n",
       " 'adam': 724,\n",
       " 'clear': 725,\n",
       " 'steve': 726,\n",
       " 'book': 727,\n",
       " 'min': 728,\n",
       " 'swim': 729,\n",
       " 'th': 730,\n",
       " 'mark': 731,\n",
       " 'tom': 732,\n",
       " 'office': 733,\n",
       " 'grocery': 734,\n",
       " 'shop': 735,\n",
       " 'february': 736,\n",
       " 'carla': 737,\n",
       " 'attend': 738,\n",
       " 'wish': 739,\n",
       " 'salma': 740,\n",
       " 'nour': 741,\n",
       " 'people': 742,\n",
       " 'ask': 743,\n",
       " 'send': 744,\n",
       " 'witch': 745,\n",
       " 'jack': 746,\n",
       " 'thing': 747,\n",
       " 'plan': 748,\n",
       " 'eman': 749,\n",
       " 'twelfth': 750,\n",
       " 'review': 751,\n",
       " 'tone': 752,\n",
       " 'stew': 753,\n",
       " 'wed': 754,\n",
       " 'earse': 755,\n",
       " 'noon': 756,\n",
       " 'movie': 757,\n",
       " 'engagement': 758,\n",
       " 'available': 759,\n",
       " 'medicine': 760,\n",
       " 'sleep': 761}"
      ]
     },
     "execution_count": 18,
     "metadata": {},
     "output_type": "execute_result"
    }
   ],
   "source": [
    "token = Tokenizer()\n",
    "token.fit_on_texts(preprocess(df))\n",
    "words =  token.word_index\n",
    "words"
   ]
  },
  {
   "cell_type": "code",
   "execution_count": 19,
   "id": "6c08f952",
   "metadata": {},
   "outputs": [
    {
     "data": {
      "text/plain": [
       "762"
      ]
     },
     "execution_count": 19,
     "metadata": {},
     "output_type": "execute_result"
    }
   ],
   "source": [
    "vocab_size = len(token.word_index) + 1\n",
    "vocab_size"
   ]
  },
  {
   "cell_type": "code",
   "execution_count": 20,
   "id": "0f66e146",
   "metadata": {},
   "outputs": [
    {
     "name": "stdout",
     "output_type": "stream",
     "text": [
      "[[1, 80, 126]] \n",
      " (1, 3)\n"
     ]
    }
   ],
   "source": [
    "text = 'please open the door'\n",
    "x = token.texts_to_sequences([text.split()])\n",
    "print(x , '\\n',np.array(x).shape)"
   ]
  },
  {
   "cell_type": "markdown",
   "id": "05859d84",
   "metadata": {},
   "source": [
    "#### Build a simple BoW.\n",
    "    Rows are the number of sentences.\n",
    "    Columns are the number of words in the vocab."
   ]
  },
  {
   "cell_type": "markdown",
   "id": "541ce92e",
   "metadata": {},
   "source": [
    "Can encode different modes:\n",
    "\n",
    "    binary: Whether or not each word is present in the document. \n",
    "    count: The count of each word in the document.\n",
    "    tfidf: The Text Frequency-Inverse Document Frequency (TF-IDF) scoring for each word in the document.\n",
    "    freq: The frequency of each word as a ratio of words within each document."
   ]
  },
  {
   "cell_type": "code",
   "execution_count": 21,
   "id": "bcec5099",
   "metadata": {},
   "outputs": [
    {
     "data": {
      "text/plain": [
       "(1298, 762)"
      ]
     },
     "execution_count": 21,
     "metadata": {},
     "output_type": "execute_result"
    }
   ],
   "source": [
    "bow = token.texts_to_matrix(preprocess(df), mode='freq')\n",
    "bow.shape"
   ]
  },
  {
   "cell_type": "markdown",
   "id": "a4e24f84",
   "metadata": {},
   "source": [
    "Using **Frequency** mode to prevent overfitting not like **TF-IDF** mode it doesn't make normailze \n"
   ]
  },
  {
   "cell_type": "code",
   "execution_count": 22,
   "id": "e8c04175",
   "metadata": {},
   "outputs": [
    {
     "data": {
      "text/plain": [
       "array([0.  , 0.  , 0.  , 0.  , 0.  , 0.  , 0.  , 0.  , 0.  , 0.  , 0.  ,\n",
       "       0.25, 0.  , 0.  , 0.  , 0.  , 0.  , 0.  , 0.  , 0.  , 0.  , 0.  ,\n",
       "       0.25, 0.  , 0.  , 0.  , 0.  , 0.  , 0.  , 0.  , 0.  , 0.  , 0.  ,\n",
       "       0.  , 0.25, 0.  , 0.  , 0.  , 0.  , 0.  , 0.  , 0.  , 0.  , 0.  ,\n",
       "       0.  , 0.  , 0.  , 0.  , 0.  , 0.  , 0.  , 0.  , 0.  , 0.  , 0.  ,\n",
       "       0.  , 0.25, 0.  , 0.  , 0.  , 0.  , 0.  , 0.  , 0.  , 0.  , 0.  ,\n",
       "       0.  , 0.  , 0.  , 0.  , 0.  , 0.  , 0.  , 0.  , 0.  , 0.  , 0.  ,\n",
       "       0.  , 0.  , 0.  , 0.  , 0.  , 0.  , 0.  , 0.  , 0.  , 0.  , 0.  ,\n",
       "       0.  , 0.  , 0.  , 0.  , 0.  , 0.  , 0.  , 0.  , 0.  , 0.  , 0.  ,\n",
       "       0.  , 0.  , 0.  , 0.  , 0.  , 0.  , 0.  , 0.  , 0.  , 0.  , 0.  ,\n",
       "       0.  , 0.  , 0.  , 0.  , 0.  , 0.  , 0.  , 0.  , 0.  , 0.  , 0.  ,\n",
       "       0.  , 0.  , 0.  , 0.  , 0.  , 0.  , 0.  , 0.  , 0.  , 0.  , 0.  ,\n",
       "       0.  , 0.  , 0.  , 0.  , 0.  , 0.  , 0.  , 0.  , 0.  , 0.  , 0.  ,\n",
       "       0.  , 0.  , 0.  , 0.  , 0.  , 0.  , 0.  , 0.  , 0.  , 0.  , 0.  ,\n",
       "       0.  , 0.  , 0.  , 0.  , 0.  , 0.  , 0.  , 0.  , 0.  , 0.  , 0.  ,\n",
       "       0.  , 0.  , 0.  , 0.  , 0.  , 0.  , 0.  , 0.  , 0.  , 0.  , 0.  ,\n",
       "       0.  , 0.  , 0.  , 0.  , 0.  , 0.  , 0.  , 0.  , 0.  , 0.  , 0.  ,\n",
       "       0.  , 0.  , 0.  , 0.  , 0.  , 0.  , 0.  , 0.  , 0.  , 0.  , 0.  ,\n",
       "       0.  , 0.  , 0.  , 0.  , 0.  , 0.  , 0.  , 0.  , 0.  , 0.  , 0.  ,\n",
       "       0.  , 0.  , 0.  , 0.  , 0.  , 0.  , 0.  , 0.  , 0.  , 0.  , 0.  ,\n",
       "       0.  , 0.  , 0.  , 0.  , 0.  , 0.  , 0.  , 0.  , 0.  , 0.  , 0.  ,\n",
       "       0.  , 0.  , 0.  , 0.  , 0.  , 0.  , 0.  , 0.  , 0.  , 0.  , 0.  ,\n",
       "       0.  , 0.  , 0.  , 0.  , 0.  , 0.  , 0.  , 0.  , 0.  , 0.  , 0.  ,\n",
       "       0.  , 0.  , 0.  , 0.  , 0.  , 0.  , 0.  , 0.  , 0.  , 0.  , 0.  ,\n",
       "       0.  , 0.  , 0.  , 0.  , 0.  , 0.  , 0.  , 0.  , 0.  , 0.  , 0.  ,\n",
       "       0.  , 0.  , 0.  , 0.  , 0.  , 0.  , 0.  , 0.  , 0.  , 0.  , 0.  ,\n",
       "       0.  , 0.  , 0.  , 0.  , 0.  , 0.  , 0.  , 0.  , 0.  , 0.  , 0.  ,\n",
       "       0.  , 0.  , 0.  , 0.  , 0.  , 0.  , 0.  , 0.  , 0.  , 0.  , 0.  ,\n",
       "       0.  , 0.  , 0.  , 0.  , 0.  , 0.  , 0.  , 0.  , 0.  , 0.  , 0.  ,\n",
       "       0.  , 0.  , 0.  , 0.  , 0.  , 0.  , 0.  , 0.  , 0.  , 0.  , 0.  ,\n",
       "       0.  , 0.  , 0.  , 0.  , 0.  , 0.  , 0.  , 0.  , 0.  , 0.  , 0.  ,\n",
       "       0.  , 0.  , 0.  , 0.  , 0.  , 0.  , 0.  , 0.  , 0.  , 0.  , 0.  ,\n",
       "       0.  , 0.  , 0.  , 0.  , 0.  , 0.  , 0.  , 0.  , 0.  , 0.  , 0.  ,\n",
       "       0.  , 0.  , 0.  , 0.  , 0.  , 0.  , 0.  , 0.  , 0.  , 0.  , 0.  ,\n",
       "       0.  , 0.  , 0.  , 0.  , 0.  , 0.  , 0.  , 0.  , 0.  , 0.  , 0.  ,\n",
       "       0.  , 0.  , 0.  , 0.  , 0.  , 0.  , 0.  , 0.  , 0.  , 0.  , 0.  ,\n",
       "       0.  , 0.  , 0.  , 0.  , 0.  , 0.  , 0.  , 0.  , 0.  , 0.  , 0.  ,\n",
       "       0.  , 0.  , 0.  , 0.  , 0.  , 0.  , 0.  , 0.  , 0.  , 0.  , 0.  ,\n",
       "       0.  , 0.  , 0.  , 0.  , 0.  , 0.  , 0.  , 0.  , 0.  , 0.  , 0.  ,\n",
       "       0.  , 0.  , 0.  , 0.  , 0.  , 0.  , 0.  , 0.  , 0.  , 0.  , 0.  ,\n",
       "       0.  , 0.  , 0.  , 0.  , 0.  , 0.  , 0.  , 0.  , 0.  , 0.  , 0.  ,\n",
       "       0.  , 0.  , 0.  , 0.  , 0.  , 0.  , 0.  , 0.  , 0.  , 0.  , 0.  ,\n",
       "       0.  , 0.  , 0.  , 0.  , 0.  , 0.  , 0.  , 0.  , 0.  , 0.  , 0.  ,\n",
       "       0.  , 0.  , 0.  , 0.  , 0.  , 0.  , 0.  , 0.  , 0.  , 0.  , 0.  ,\n",
       "       0.  , 0.  , 0.  , 0.  , 0.  , 0.  , 0.  , 0.  , 0.  , 0.  , 0.  ,\n",
       "       0.  , 0.  , 0.  , 0.  , 0.  , 0.  , 0.  , 0.  , 0.  , 0.  , 0.  ,\n",
       "       0.  , 0.  , 0.  , 0.  , 0.  , 0.  , 0.  , 0.  , 0.  , 0.  , 0.  ,\n",
       "       0.  , 0.  , 0.  , 0.  , 0.  , 0.  , 0.  , 0.  , 0.  , 0.  , 0.  ,\n",
       "       0.  , 0.  , 0.  , 0.  , 0.  , 0.  , 0.  , 0.  , 0.  , 0.  , 0.  ,\n",
       "       0.  , 0.  , 0.  , 0.  , 0.  , 0.  , 0.  , 0.  , 0.  , 0.  , 0.  ,\n",
       "       0.  , 0.  , 0.  , 0.  , 0.  , 0.  , 0.  , 0.  , 0.  , 0.  , 0.  ,\n",
       "       0.  , 0.  , 0.  , 0.  , 0.  , 0.  , 0.  , 0.  , 0.  , 0.  , 0.  ,\n",
       "       0.  , 0.  , 0.  , 0.  , 0.  , 0.  , 0.  , 0.  , 0.  , 0.  , 0.  ,\n",
       "       0.  , 0.  , 0.  , 0.  , 0.  , 0.  , 0.  , 0.  , 0.  , 0.  , 0.  ,\n",
       "       0.  , 0.  , 0.  , 0.  , 0.  , 0.  , 0.  , 0.  , 0.  , 0.  , 0.  ,\n",
       "       0.  , 0.  , 0.  , 0.  , 0.  , 0.  , 0.  , 0.  , 0.  , 0.  , 0.  ,\n",
       "       0.  , 0.  , 0.  , 0.  , 0.  , 0.  , 0.  , 0.  , 0.  , 0.  , 0.  ,\n",
       "       0.  , 0.  , 0.  , 0.  , 0.  , 0.  , 0.  , 0.  , 0.  , 0.  , 0.  ,\n",
       "       0.  , 0.  , 0.  , 0.  , 0.  , 0.  , 0.  , 0.  , 0.  , 0.  , 0.  ,\n",
       "       0.  , 0.  , 0.  , 0.  , 0.  , 0.  , 0.  , 0.  , 0.  , 0.  , 0.  ,\n",
       "       0.  , 0.  , 0.  , 0.  , 0.  , 0.  , 0.  , 0.  , 0.  , 0.  , 0.  ,\n",
       "       0.  , 0.  , 0.  , 0.  , 0.  , 0.  , 0.  , 0.  , 0.  , 0.  , 0.  ,\n",
       "       0.  , 0.  , 0.  , 0.  , 0.  , 0.  , 0.  , 0.  , 0.  , 0.  , 0.  ,\n",
       "       0.  , 0.  , 0.  , 0.  , 0.  , 0.  , 0.  , 0.  , 0.  , 0.  , 0.  ,\n",
       "       0.  , 0.  , 0.  , 0.  , 0.  , 0.  , 0.  , 0.  , 0.  , 0.  , 0.  ,\n",
       "       0.  , 0.  , 0.  , 0.  , 0.  , 0.  , 0.  , 0.  , 0.  , 0.  , 0.  ,\n",
       "       0.  , 0.  , 0.  , 0.  , 0.  , 0.  , 0.  , 0.  , 0.  , 0.  , 0.  ,\n",
       "       0.  , 0.  , 0.  , 0.  , 0.  , 0.  , 0.  , 0.  , 0.  , 0.  , 0.  ,\n",
       "       0.  , 0.  , 0.  , 0.  , 0.  , 0.  , 0.  , 0.  , 0.  , 0.  , 0.  ,\n",
       "       0.  , 0.  , 0.  ])"
      ]
     },
     "execution_count": 22,
     "metadata": {},
     "output_type": "execute_result"
    }
   ],
   "source": [
    "bow[555]"
   ]
  },
  {
   "cell_type": "code",
   "execution_count": 23,
   "id": "79ae9093",
   "metadata": {},
   "outputs": [
    {
     "data": {
      "text/plain": [
       "(1298, 1)"
      ]
     },
     "execution_count": 23,
     "metadata": {},
     "output_type": "execute_result"
    }
   ],
   "source": [
    "y_encoded = np.array(df['Intent']).reshape(len(df), 1)\n",
    "y_encoded.shape\n"
   ]
  },
  {
   "cell_type": "code",
   "execution_count": 24,
   "id": "5bc86b41",
   "metadata": {},
   "outputs": [
    {
     "data": {
      "text/plain": [
       "(1298, 11)"
      ]
     },
     "execution_count": 24,
     "metadata": {},
     "output_type": "execute_result"
    }
   ],
   "source": [
    "encoder = OneHotEncoder(sparse = False)\n",
    "y = encoder.fit_transform(y_encoded)\n",
    "y.shape"
   ]
  },
  {
   "cell_type": "code",
   "execution_count": 25,
   "id": "f2dd84a5",
   "metadata": {},
   "outputs": [],
   "source": [
    "X_train , X_test , y_train , y_test = train_test_split(bow , y , test_size = 0.2 , random_state = 0 , stratify = y , shuffle = True)"
   ]
  },
  {
   "cell_type": "code",
   "execution_count": 26,
   "id": "32148ef6",
   "metadata": {},
   "outputs": [
    {
     "data": {
      "text/plain": [
       "((1038, 762), (260, 762), (1038, 11), (260, 11))"
      ]
     },
     "execution_count": 26,
     "metadata": {},
     "output_type": "execute_result"
    }
   ],
   "source": [
    "X_train.shape , X_test.shape , y_train.shape , y_test.shape"
   ]
  },
  {
   "cell_type": "code",
   "execution_count": 27,
   "id": "45bd40c8",
   "metadata": {},
   "outputs": [
    {
     "name": "stdout",
     "output_type": "stream",
     "text": [
      "Model: \"sequential\"\n",
      "_________________________________________________________________\n",
      " Layer (type)                Output Shape              Param #   \n",
      "=================================================================\n",
      " dense (Dense)               (None, 128)               97664     \n",
      "                                                                 \n",
      " dropout (Dropout)           (None, 128)               0         \n",
      "                                                                 \n",
      " dense_1 (Dense)             (None, 64)                8256      \n",
      "                                                                 \n",
      " dropout_1 (Dropout)         (None, 64)                0         \n",
      "                                                                 \n",
      " dense_2 (Dense)             (None, 11)                715       \n",
      "                                                                 \n",
      "=================================================================\n",
      "Total params: 106,635\n",
      "Trainable params: 106,635\n",
      "Non-trainable params: 0\n",
      "_________________________________________________________________\n"
     ]
    }
   ],
   "source": [
    "model = Sequential()\n",
    "model.add(Dense(128, input_shape=(vocab_size,), activation='relu'))\n",
    "model.add(Dropout(0.5))\n",
    "model.add(Dense(64, activation='relu'))\n",
    "model.add(Dropout(0.5))\n",
    "model.add(Dense(len(classes), activation='softmax'))\n",
    "\n",
    "model.summary()"
   ]
  },
  {
   "cell_type": "code",
   "execution_count": 28,
   "id": "cacd054e",
   "metadata": {},
   "outputs": [],
   "source": [
    "# Compile the model with categorical_crossentropy loss and adam optimizer\n",
    "model.compile(loss='categorical_crossentropy', optimizer = 'adam' , metrics=['accuracy'])"
   ]
  },
  {
   "cell_type": "code",
   "execution_count": 29,
   "id": "a12653b5",
   "metadata": {},
   "outputs": [
    {
     "name": "stdout",
     "output_type": "stream",
     "text": [
      "Epoch 1/100\n",
      "208/208 [==============================] - 3s 6ms/step - loss: 2.2177 - accuracy: 0.2659 - val_loss: 1.8589 - val_accuracy: 0.6231\n",
      "Epoch 2/100\n",
      "208/208 [==============================] - 0s 2ms/step - loss: 1.4637 - accuracy: 0.6435 - val_loss: 0.8717 - val_accuracy: 0.8231\n",
      "Epoch 3/100\n",
      "208/208 [==============================] - 0s 2ms/step - loss: 0.7672 - accuracy: 0.8064 - val_loss: 0.4623 - val_accuracy: 0.9154\n",
      "Epoch 4/100\n",
      "208/208 [==============================] - 0s 2ms/step - loss: 0.4852 - accuracy: 0.8690 - val_loss: 0.2989 - val_accuracy: 0.9462\n",
      "Epoch 5/100\n",
      "208/208 [==============================] - 0s 2ms/step - loss: 0.3553 - accuracy: 0.9046 - val_loss: 0.2106 - val_accuracy: 0.9769\n",
      "Epoch 6/100\n",
      "208/208 [==============================] - 1s 3ms/step - loss: 0.2641 - accuracy: 0.9374 - val_loss: 0.1503 - val_accuracy: 0.9846\n",
      "Epoch 7/100\n",
      "208/208 [==============================] - 1s 2ms/step - loss: 0.1896 - accuracy: 0.9528 - val_loss: 0.1110 - val_accuracy: 0.9846\n",
      "Epoch 8/100\n",
      "208/208 [==============================] - 1s 3ms/step - loss: 0.1767 - accuracy: 0.9644 - val_loss: 0.0823 - val_accuracy: 0.9962\n",
      "Epoch 9/100\n",
      "208/208 [==============================] - 0s 2ms/step - loss: 0.1186 - accuracy: 0.9788 - val_loss: 0.0703 - val_accuracy: 0.9885\n",
      "Epoch 10/100\n",
      "208/208 [==============================] - 1s 3ms/step - loss: 0.1118 - accuracy: 0.9750 - val_loss: 0.0596 - val_accuracy: 0.9885\n",
      "Epoch 11/100\n",
      "208/208 [==============================] - 0s 2ms/step - loss: 0.0793 - accuracy: 0.9865 - val_loss: 0.0521 - val_accuracy: 0.9885\n",
      "Epoch 12/100\n",
      "208/208 [==============================] - 1s 3ms/step - loss: 0.0739 - accuracy: 0.9855 - val_loss: 0.0415 - val_accuracy: 0.9923\n",
      "Epoch 13/100\n",
      "208/208 [==============================] - 0s 2ms/step - loss: 0.0722 - accuracy: 0.9836 - val_loss: 0.0322 - val_accuracy: 0.9962\n",
      "Epoch 14/100\n",
      "208/208 [==============================] - 0s 2ms/step - loss: 0.0511 - accuracy: 0.9913 - val_loss: 0.0320 - val_accuracy: 0.9962\n",
      "Epoch 15/100\n",
      "208/208 [==============================] - 1s 3ms/step - loss: 0.0417 - accuracy: 0.9933 - val_loss: 0.0277 - val_accuracy: 1.0000\n",
      "Epoch 16/100\n",
      "208/208 [==============================] - 0s 2ms/step - loss: 0.0396 - accuracy: 0.9961 - val_loss: 0.0255 - val_accuracy: 0.9962\n",
      "Epoch 17/100\n",
      "208/208 [==============================] - 0s 2ms/step - loss: 0.0400 - accuracy: 0.9923 - val_loss: 0.0272 - val_accuracy: 0.9923\n",
      "Epoch 18/100\n",
      "208/208 [==============================] - 0s 2ms/step - loss: 0.0371 - accuracy: 0.9923 - val_loss: 0.0336 - val_accuracy: 0.9885\n",
      "Epoch 19/100\n",
      "208/208 [==============================] - 0s 2ms/step - loss: 0.0312 - accuracy: 0.9923 - val_loss: 0.0307 - val_accuracy: 0.9846\n",
      "Epoch 20/100\n",
      "208/208 [==============================] - 0s 2ms/step - loss: 0.0269 - accuracy: 0.9961 - val_loss: 0.0550 - val_accuracy: 0.9808\n",
      "Epoch 21/100\n",
      "208/208 [==============================] - 1s 3ms/step - loss: 0.0287 - accuracy: 0.9942 - val_loss: 0.0313 - val_accuracy: 0.9885\n",
      "Epoch 22/100\n",
      "208/208 [==============================] - 0s 2ms/step - loss: 0.0200 - accuracy: 0.9971 - val_loss: 0.0263 - val_accuracy: 0.9885\n",
      "Epoch 23/100\n",
      "208/208 [==============================] - 0s 2ms/step - loss: 0.0198 - accuracy: 0.9971 - val_loss: 0.0326 - val_accuracy: 0.9846\n",
      "Epoch 24/100\n",
      "208/208 [==============================] - 1s 3ms/step - loss: 0.0275 - accuracy: 0.9923 - val_loss: 0.0288 - val_accuracy: 0.9885\n",
      "Epoch 25/100\n",
      "208/208 [==============================] - 0s 2ms/step - loss: 0.0231 - accuracy: 0.9961 - val_loss: 0.0233 - val_accuracy: 0.9885\n",
      "Epoch 26/100\n",
      "208/208 [==============================] - 1s 3ms/step - loss: 0.0137 - accuracy: 1.0000 - val_loss: 0.0230 - val_accuracy: 0.9885\n",
      "Epoch 27/100\n",
      "208/208 [==============================] - 1s 3ms/step - loss: 0.0131 - accuracy: 0.9990 - val_loss: 0.0305 - val_accuracy: 0.9885\n",
      "Epoch 28/100\n",
      "208/208 [==============================] - 0s 2ms/step - loss: 0.0116 - accuracy: 0.9971 - val_loss: 0.0279 - val_accuracy: 0.9885\n",
      "Epoch 29/100\n",
      "208/208 [==============================] - 0s 2ms/step - loss: 0.0126 - accuracy: 0.9981 - val_loss: 0.0339 - val_accuracy: 0.9846\n",
      "Epoch 30/100\n",
      "208/208 [==============================] - 0s 2ms/step - loss: 0.0076 - accuracy: 1.0000 - val_loss: 0.0333 - val_accuracy: 0.9846\n",
      "Epoch 31/100\n",
      "208/208 [==============================] - 1s 3ms/step - loss: 0.0180 - accuracy: 0.9952 - val_loss: 0.0283 - val_accuracy: 0.9846\n",
      "Epoch 32/100\n",
      "208/208 [==============================] - 1s 3ms/step - loss: 0.0119 - accuracy: 0.9981 - val_loss: 0.0367 - val_accuracy: 0.9846\n",
      "Epoch 33/100\n",
      "208/208 [==============================] - 0s 2ms/step - loss: 0.0070 - accuracy: 0.9990 - val_loss: 0.0373 - val_accuracy: 0.9846\n",
      "Epoch 34/100\n",
      "208/208 [==============================] - 0s 2ms/step - loss: 0.0074 - accuracy: 0.9990 - val_loss: 0.0365 - val_accuracy: 0.9846\n",
      "Epoch 35/100\n",
      "208/208 [==============================] - 1s 3ms/step - loss: 0.0148 - accuracy: 0.9961 - val_loss: 0.0405 - val_accuracy: 0.9846\n",
      "Epoch 36/100\n",
      "208/208 [==============================] - 0s 2ms/step - loss: 0.0082 - accuracy: 0.9981 - val_loss: 0.0396 - val_accuracy: 0.9846\n",
      "Epoch 37/100\n",
      "208/208 [==============================] - 0s 2ms/step - loss: 0.0086 - accuracy: 0.9981 - val_loss: 0.0358 - val_accuracy: 0.9846\n",
      "Epoch 38/100\n",
      "208/208 [==============================] - 0s 2ms/step - loss: 0.0091 - accuracy: 0.9990 - val_loss: 0.0298 - val_accuracy: 0.9885\n",
      "Epoch 39/100\n",
      "208/208 [==============================] - 0s 2ms/step - loss: 0.0064 - accuracy: 0.9990 - val_loss: 0.0294 - val_accuracy: 0.9885\n",
      "Epoch 40/100\n",
      "208/208 [==============================] - 0s 2ms/step - loss: 0.0090 - accuracy: 0.9990 - val_loss: 0.0298 - val_accuracy: 0.9885\n",
      "Epoch 41/100\n",
      "208/208 [==============================] - 0s 2ms/step - loss: 0.0073 - accuracy: 0.9990 - val_loss: 0.0288 - val_accuracy: 0.9885\n",
      "Epoch 42/100\n",
      "208/208 [==============================] - 0s 2ms/step - loss: 0.0063 - accuracy: 0.9990 - val_loss: 0.0326 - val_accuracy: 0.9885\n",
      "Epoch 43/100\n",
      "208/208 [==============================] - 0s 2ms/step - loss: 0.0034 - accuracy: 0.9990 - val_loss: 0.0375 - val_accuracy: 0.9885\n",
      "Epoch 44/100\n",
      "208/208 [==============================] - 0s 2ms/step - loss: 0.0069 - accuracy: 0.9990 - val_loss: 0.0514 - val_accuracy: 0.9846\n",
      "Epoch 45/100\n",
      "208/208 [==============================] - 0s 2ms/step - loss: 0.0067 - accuracy: 0.9990 - val_loss: 0.0521 - val_accuracy: 0.9846\n",
      "Epoch 46/100\n",
      "208/208 [==============================] - 1s 2ms/step - loss: 0.0097 - accuracy: 0.9981 - val_loss: 0.0413 - val_accuracy: 0.9846\n",
      "Epoch 47/100\n",
      "208/208 [==============================] - 0s 2ms/step - loss: 0.0021 - accuracy: 1.0000 - val_loss: 0.0522 - val_accuracy: 0.9846\n",
      "Epoch 48/100\n",
      "208/208 [==============================] - 0s 2ms/step - loss: 0.0033 - accuracy: 1.0000 - val_loss: 0.0475 - val_accuracy: 0.9846\n",
      "Epoch 49/100\n",
      "208/208 [==============================] - 0s 2ms/step - loss: 0.0062 - accuracy: 0.9990 - val_loss: 0.0437 - val_accuracy: 0.9846\n",
      "Epoch 50/100\n",
      "208/208 [==============================] - 1s 2ms/step - loss: 0.0038 - accuracy: 0.9990 - val_loss: 0.0473 - val_accuracy: 0.9846\n",
      "Epoch 51/100\n",
      "208/208 [==============================] - 0s 2ms/step - loss: 0.0029 - accuracy: 0.9990 - val_loss: 0.0404 - val_accuracy: 0.9846\n",
      "Epoch 52/100\n",
      "208/208 [==============================] - 0s 2ms/step - loss: 0.0055 - accuracy: 0.9990 - val_loss: 0.0403 - val_accuracy: 0.9846\n",
      "Epoch 53/100\n",
      "208/208 [==============================] - 1s 3ms/step - loss: 0.0041 - accuracy: 1.0000 - val_loss: 0.0318 - val_accuracy: 0.9885\n",
      "Epoch 54/100\n",
      "208/208 [==============================] - 0s 2ms/step - loss: 0.0040 - accuracy: 0.9981 - val_loss: 0.0427 - val_accuracy: 0.9846\n",
      "Epoch 55/100\n",
      "208/208 [==============================] - 0s 2ms/step - loss: 0.0048 - accuracy: 0.9990 - val_loss: 0.0472 - val_accuracy: 0.9846\n",
      "Epoch 56/100\n",
      "208/208 [==============================] - 0s 2ms/step - loss: 0.0074 - accuracy: 0.9971 - val_loss: 0.0495 - val_accuracy: 0.9846\n",
      "Epoch 57/100\n",
      "208/208 [==============================] - 0s 2ms/step - loss: 0.0055 - accuracy: 0.9981 - val_loss: 0.0427 - val_accuracy: 0.9846\n",
      "Epoch 58/100\n",
      "208/208 [==============================] - 1s 3ms/step - loss: 0.0026 - accuracy: 0.9990 - val_loss: 0.0518 - val_accuracy: 0.9846\n",
      "Epoch 59/100\n",
      "208/208 [==============================] - 1s 4ms/step - loss: 0.0041 - accuracy: 0.9990 - val_loss: 0.0456 - val_accuracy: 0.9846\n",
      "Epoch 60/100\n",
      "208/208 [==============================] - 1s 3ms/step - loss: 0.0020 - accuracy: 1.0000 - val_loss: 0.0540 - val_accuracy: 0.9846\n",
      "Epoch 61/100\n",
      "208/208 [==============================] - 1s 3ms/step - loss: 0.0049 - accuracy: 0.9990 - val_loss: 0.0498 - val_accuracy: 0.9885\n",
      "Epoch 62/100\n",
      "208/208 [==============================] - 1s 3ms/step - loss: 0.0069 - accuracy: 0.9981 - val_loss: 0.0647 - val_accuracy: 0.9846\n",
      "Epoch 63/100\n",
      "208/208 [==============================] - 0s 2ms/step - loss: 0.0022 - accuracy: 0.9990 - val_loss: 0.0647 - val_accuracy: 0.9846\n",
      "Epoch 64/100\n",
      "208/208 [==============================] - 0s 2ms/step - loss: 0.0033 - accuracy: 0.9990 - val_loss: 0.0698 - val_accuracy: 0.9846\n",
      "Epoch 65/100\n",
      "208/208 [==============================] - 0s 2ms/step - loss: 0.0029 - accuracy: 1.0000 - val_loss: 0.0817 - val_accuracy: 0.9846\n",
      "Epoch 66/100\n",
      "208/208 [==============================] - 1s 2ms/step - loss: 0.0020 - accuracy: 1.0000 - val_loss: 0.0717 - val_accuracy: 0.9846\n",
      "Epoch 67/100\n",
      "208/208 [==============================] - 0s 2ms/step - loss: 0.0054 - accuracy: 0.9981 - val_loss: 0.0698 - val_accuracy: 0.9885\n",
      "Epoch 68/100\n",
      "208/208 [==============================] - 1s 2ms/step - loss: 0.0030 - accuracy: 1.0000 - val_loss: 0.0716 - val_accuracy: 0.9885\n",
      "Epoch 69/100\n",
      "208/208 [==============================] - 0s 2ms/step - loss: 0.0025 - accuracy: 1.0000 - val_loss: 0.0856 - val_accuracy: 0.9846\n",
      "Epoch 70/100\n",
      "208/208 [==============================] - 0s 2ms/step - loss: 0.0046 - accuracy: 0.9990 - val_loss: 0.0541 - val_accuracy: 0.9885\n",
      "Epoch 71/100\n",
      "208/208 [==============================] - 1s 2ms/step - loss: 0.0016 - accuracy: 0.9990 - val_loss: 0.0551 - val_accuracy: 0.9885\n",
      "Epoch 72/100\n",
      "208/208 [==============================] - 0s 2ms/step - loss: 0.0041 - accuracy: 0.9990 - val_loss: 0.0540 - val_accuracy: 0.9885\n",
      "Epoch 73/100\n",
      "208/208 [==============================] - 1s 3ms/step - loss: 0.0030 - accuracy: 0.9990 - val_loss: 0.0537 - val_accuracy: 0.9885\n",
      "Epoch 74/100\n",
      "208/208 [==============================] - 0s 2ms/step - loss: 0.0014 - accuracy: 1.0000 - val_loss: 0.0606 - val_accuracy: 0.9885\n",
      "Epoch 75/100\n",
      "208/208 [==============================] - 1s 4ms/step - loss: 0.0025 - accuracy: 0.9990 - val_loss: 0.0810 - val_accuracy: 0.9885\n",
      "Epoch 76/100\n",
      "208/208 [==============================] - 0s 2ms/step - loss: 0.0019 - accuracy: 1.0000 - val_loss: 0.0615 - val_accuracy: 0.9885\n",
      "Epoch 77/100\n",
      "208/208 [==============================] - 1s 3ms/step - loss: 0.0035 - accuracy: 0.9990 - val_loss: 0.0602 - val_accuracy: 0.9846\n",
      "Epoch 78/100\n",
      "208/208 [==============================] - 0s 2ms/step - loss: 9.0258e-04 - accuracy: 1.0000 - val_loss: 0.0581 - val_accuracy: 0.9885\n",
      "Epoch 79/100\n",
      "208/208 [==============================] - 1s 3ms/step - loss: 3.7515e-04 - accuracy: 1.0000 - val_loss: 0.0593 - val_accuracy: 0.9885\n",
      "Epoch 80/100\n",
      "208/208 [==============================] - 1s 3ms/step - loss: 0.0015 - accuracy: 1.0000 - val_loss: 0.0525 - val_accuracy: 0.9885\n",
      "Epoch 81/100\n",
      "208/208 [==============================] - 0s 2ms/step - loss: 0.0029 - accuracy: 0.9990 - val_loss: 0.0572 - val_accuracy: 0.9885\n",
      "Epoch 82/100\n",
      "208/208 [==============================] - 0s 2ms/step - loss: 0.0024 - accuracy: 0.9990 - val_loss: 0.0538 - val_accuracy: 0.9885\n",
      "Epoch 83/100\n",
      "208/208 [==============================] - 0s 2ms/step - loss: 9.7908e-04 - accuracy: 1.0000 - val_loss: 0.0750 - val_accuracy: 0.9846\n",
      "Epoch 84/100\n",
      "208/208 [==============================] - 0s 2ms/step - loss: 0.0015 - accuracy: 0.9990 - val_loss: 0.0750 - val_accuracy: 0.9846\n",
      "Epoch 85/100\n",
      "208/208 [==============================] - 0s 2ms/step - loss: 6.6965e-04 - accuracy: 1.0000 - val_loss: 0.0804 - val_accuracy: 0.9846\n",
      "Epoch 86/100\n",
      "208/208 [==============================] - 1s 2ms/step - loss: 7.5350e-04 - accuracy: 1.0000 - val_loss: 0.0713 - val_accuracy: 0.9846\n",
      "Epoch 87/100\n",
      "208/208 [==============================] - 1s 2ms/step - loss: 0.0043 - accuracy: 0.9981 - val_loss: 0.0735 - val_accuracy: 0.9846\n",
      "Epoch 88/100\n",
      "208/208 [==============================] - 0s 2ms/step - loss: 0.0021 - accuracy: 1.0000 - val_loss: 0.0825 - val_accuracy: 0.9846\n",
      "Epoch 89/100\n",
      "208/208 [==============================] - 0s 2ms/step - loss: 0.0017 - accuracy: 1.0000 - val_loss: 0.0710 - val_accuracy: 0.9846\n",
      "Epoch 90/100\n",
      "208/208 [==============================] - 0s 2ms/step - loss: 0.0021 - accuracy: 1.0000 - val_loss: 0.0579 - val_accuracy: 0.9885\n",
      "Epoch 91/100\n",
      "208/208 [==============================] - 0s 2ms/step - loss: 3.2789e-04 - accuracy: 1.0000 - val_loss: 0.0577 - val_accuracy: 0.9885\n",
      "Epoch 92/100\n",
      "208/208 [==============================] - 0s 2ms/step - loss: 0.0011 - accuracy: 1.0000 - val_loss: 0.0654 - val_accuracy: 0.9885\n",
      "Epoch 93/100\n",
      "208/208 [==============================] - 0s 2ms/step - loss: 0.0022 - accuracy: 0.9990 - val_loss: 0.0781 - val_accuracy: 0.9846\n",
      "Epoch 94/100\n",
      "208/208 [==============================] - 0s 2ms/step - loss: 5.3618e-04 - accuracy: 1.0000 - val_loss: 0.0771 - val_accuracy: 0.9846\n",
      "Epoch 95/100\n",
      "208/208 [==============================] - 0s 2ms/step - loss: 0.0027 - accuracy: 0.9990 - val_loss: 0.0855 - val_accuracy: 0.9846\n",
      "Epoch 96/100\n",
      "208/208 [==============================] - 0s 2ms/step - loss: 9.8256e-04 - accuracy: 1.0000 - val_loss: 0.0797 - val_accuracy: 0.9846\n",
      "Epoch 97/100\n",
      "208/208 [==============================] - 1s 2ms/step - loss: 8.0904e-04 - accuracy: 1.0000 - val_loss: 0.0819 - val_accuracy: 0.9846\n",
      "Epoch 98/100\n",
      "208/208 [==============================] - 0s 2ms/step - loss: 5.5182e-04 - accuracy: 1.0000 - val_loss: 0.0809 - val_accuracy: 0.9846\n",
      "Epoch 99/100\n",
      "208/208 [==============================] - 0s 2ms/step - loss: 0.0020 - accuracy: 0.9990 - val_loss: 0.0713 - val_accuracy: 0.9846\n",
      "Epoch 100/100\n",
      "208/208 [==============================] - 0s 2ms/step - loss: 0.0011 - accuracy: 1.0000 - val_loss: 0.0622 - val_accuracy: 0.9846\n"
     ]
    }
   ],
   "source": [
    "history = model.fit(X_train, y_train, epochs=100, batch_size=5, validation_data=(X_test, y_test))"
   ]
  },
  {
   "cell_type": "code",
   "execution_count": 30,
   "id": "e4cc7efa",
   "metadata": {},
   "outputs": [
    {
     "data": {
      "text/plain": [
       "<matplotlib.legend.Legend at 0x165099c59a0>"
      ]
     },
     "execution_count": 30,
     "metadata": {},
     "output_type": "execute_result"
    },
    {
     "data": {
      "image/png": "[encoded data removed]",
      "text/plain": [
       "<Figure size 1152x576 with 2 Axes>"
      ]
     },
     "metadata": {
      "needs_background": "light"
     },
     "output_type": "display_data"
    }
   ],
   "source": [
    "acc = history.history['accuracy']\n",
    "val_acc = history.history['val_accuracy']\n",
    "\n",
    "loss = history.history['loss']\n",
    "val_loss = history.history['val_loss']\n",
    "\n",
    "epochs = range(1, len(acc) + 1)\n",
    "\n",
    "fig = plt.figure(figsize=(16, 8))\n",
    "# Adds a subplot at the 1st position\n",
    "fig.add_subplot(1, 2, 1)\n",
    "plt.plot(epochs, loss, 'red', label='Training loss')\n",
    "plt.plot(epochs, val_loss, 'black', label='Validation loss')\n",
    "plt.title('Training and validation loss')\n",
    "plt.ylabel('Loss')\n",
    "plt.xlabel('Epochs')\n",
    "plt.legend()\n",
    "  \n",
    "# Adds a subplot at the 2nd position\n",
    "fig.add_subplot(1, 2, 2)\n",
    "plt.plot(epochs, acc, 'red', label='Training accuracy')\n",
    "plt.plot(epochs, val_acc, 'black', label='Validation accuracy')\n",
    "plt.title('Training and validation accuracy')\n",
    "plt.ylabel('Accuracy')\n",
    "plt.xlabel('Epochs')\n",
    "plt.legend()\n",
    "\n"
   ]
  },
  {
   "cell_type": "code",
   "execution_count": 31,
   "id": "530bfd90",
   "metadata": {},
   "outputs": [],
   "source": [
    "model.save('BOW.h5',history)"
   ]
  },
  {
   "cell_type": "markdown",
   "id": "a554d10f",
   "metadata": {},
   "source": [
    "#### Using RNN Model"
   ]
  },
  {
   "cell_type": "code",
   "execution_count": 32,
   "id": "044136e1",
   "metadata": {},
   "outputs": [
    {
     "data": {
      "text/plain": [
       "70"
      ]
     },
     "execution_count": 32,
     "metadata": {},
     "output_type": "execute_result"
    }
   ],
   "source": [
    "# Get maximum length of sentence\n",
    "max_len = max([len(x) for x in df['Sentence']])\n",
    "max_len"
   ]
  },
  {
   "cell_type": "code",
   "execution_count": 33,
   "id": "72c3189b",
   "metadata": {},
   "outputs": [
    {
     "data": {
      "text/plain": [
       "(1298, 50)"
      ]
     },
     "execution_count": 33,
     "metadata": {},
     "output_type": "execute_result"
    }
   ],
   "source": [
    "# Create Padding of maximum length for all sentences to make them of same length\n",
    "l = np.array(pad_sequences(token.texts_to_sequences(df['Sentence']), maxlen=50, padding='post', truncating='post'))\n",
    "l.shape\n"
   ]
  },
  {
   "cell_type": "code",
   "execution_count": 34,
   "id": "f2529f12",
   "metadata": {},
   "outputs": [],
   "source": [
    "X_train , X_test , y_train , y_test = train_test_split(l , y , test_size = 0.2 , random_state = 0 , stratify = y , shuffle = True)"
   ]
  },
  {
   "cell_type": "code",
   "execution_count": 35,
   "id": "4133b979",
   "metadata": {},
   "outputs": [
    {
     "data": {
      "text/plain": [
       "((1038, 50), (260, 50), (1038, 11), (260, 11))"
      ]
     },
     "execution_count": 35,
     "metadata": {},
     "output_type": "execute_result"
    }
   ],
   "source": [
    "X_train.shape , X_test.shape , y_train.shape , y_test.shape"
   ]
  },
  {
   "cell_type": "code",
   "execution_count": 36,
   "id": "16995457",
   "metadata": {},
   "outputs": [
    {
     "name": "stdout",
     "output_type": "stream",
     "text": [
      "Model: \"sequential_1\"\n",
      "_________________________________________________________________\n",
      " Layer (type)                Output Shape              Param #   \n",
      "=================================================================\n",
      " embedding (Embedding)       (None, 50, 64)            48768     \n",
      "                                                                 \n",
      " simple_rnn (SimpleRNN)      (None, 64)                8256      \n",
      "                                                                 \n",
      " dense_3 (Dense)             (None, 11)                715       \n",
      "                                                                 \n",
      "=================================================================\n",
      "Total params: 57,739\n",
      "Trainable params: 57,739\n",
      "Non-trainable params: 0\n",
      "_________________________________________________________________\n"
     ]
    }
   ],
   "source": [
    "model = Sequential()\n",
    "model.add(Embedding(vocab_size, 64, input_length = 50))\n",
    "model.add(SimpleRNN(64,activation='relu'))\n",
    "model.add(Dense(len(classes), activation = \"softmax\"))\n",
    "\n",
    "model.compile(loss = \"categorical_crossentropy\", optimizer = \"adam\", metrics = [\"accuracy\"])\n",
    "model.summary()"
   ]
  },
  {
   "cell_type": "code",
   "execution_count": 37,
   "id": "f3893c3c",
   "metadata": {},
   "outputs": [
    {
     "name": "stdout",
     "output_type": "stream",
     "text": [
      "Epoch 1/100\n",
      "208/208 [==============================] - 4s 11ms/step - loss: 2.2504 - accuracy: 0.1570 - val_loss: 2.1982 - val_accuracy: 0.1577\n",
      "Epoch 2/100\n",
      "208/208 [==============================] - 3s 13ms/step - loss: 2.2136 - accuracy: 0.1464 - val_loss: 2.1993 - val_accuracy: 0.1577\n"
     ]
    },
    {
     "data": {
      "text/plain": [
       "<keras.callbacks.History at 0x16506222850>"
      ]
     },
     "execution_count": 37,
     "metadata": {},
     "output_type": "execute_result"
    }
   ],
   "source": [
    "model.fit(X_train, y_train, epochs=100, batch_size=5, validation_data=(X_test, y_test), verbose=1,callbacks=[EarlyStopping()])"
   ]
  },
  {
   "cell_type": "code",
   "execution_count": 38,
   "id": "286f8c4a",
   "metadata": {},
   "outputs": [],
   "source": [
    "import pickle\n",
    "pickle.dump(classes, open(\"..\\data\\classes.pkl\", \"wb\"))\n",
    "pickle.dump(words, open(\"..\\data\\words.pkl\", \"wb\"))\n"
   ]
  }
 ],
 "metadata": {
  "kernelspec": {
   "display_name": "Python 3.9.4 64-bit",
   "language": "python",
   "name": "python3"
  },
  "language_info": {
   "codemirror_mode": {
    "name": "ipython",
    "version": 3
   },
   "file_extension": ".py",
   "mimetype": "text/x-python",
   "name": "python",
   "nbconvert_exporter": "python",
   "pygments_lexer": "ipython3",
   "version": "3.9.4"
  },
  "vscode": {
   "interpreter": {
    "hash": "86725531a27c656369adc9e820b5111a81bf71344e24f16b86b0bfd7cff63833"
   }
  }
 },
 "nbformat": 4,
 "nbformat_minor": 5
}
