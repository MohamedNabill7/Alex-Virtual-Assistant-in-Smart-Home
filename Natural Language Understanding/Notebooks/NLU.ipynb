{
 "cells": [
  {
   "cell_type": "markdown",
   "id": "2b52981e",
   "metadata": {},
   "source": [
    "## Get `Intent`"
   ]
  },
  {
   "cell_type": "code",
   "execution_count": 4,
   "id": "cea4b9c6",
   "metadata": {},
   "outputs": [],
   "source": [
    "import pickle\n",
    "import nltk\n",
    "import spacy\n",
    "from nltk.tokenize import word_tokenize\n",
    "from nltk.stem import WordNetLemmatizer\n",
    "lemma = WordNetLemmatizer()\n",
    "\n",
    "from keras.preprocessing.text import Tokenizer\n",
    "from nltk.corpus import stopwords\n",
    "from keras.models import load_model\n",
    "from joblib import load\n"
   ]
  },
  {
   "cell_type": "code",
   "execution_count": 5,
   "id": "0d233353",
   "metadata": {},
   "outputs": [],
   "source": [
    "ml_model = load('SVC_Model.joblib')\n",
    "\n",
    "def ml_predict(sentence):\n",
    "    pred = ml_model.predict([sentence])[0]\n",
    "    return {'Intent':pred}"
   ]
  },
  {
   "cell_type": "code",
   "execution_count": 6,
   "id": "57e85e04",
   "metadata": {},
   "outputs": [],
   "source": [
    "dl_model = load_model('BOW.h5')\n",
    "\n",
    "words = pickle.load(open(\"..\\data\\words.pkl\",'rb'))\n",
    "classes = pickle.load(open(\"..\\data\\classes.pkl\",'rb'))\n",
    "token = Tokenizer(num_words=(len(words)+1))\n",
    "token.fit_on_texts(words)\n",
    "\n",
    "# define a function to clean the text\n",
    "def clean_up_sentence(sentence):\n",
    "    # tokenize the pattern - split words into array\n",
    "    sentence_words = word_tokenize(sentence)\n",
    "    \n",
    "    # stem each word - create short form for word\n",
    "    sentence_words = [lemma.lemmatize(word.lower()) for word in sentence_words if word not in stopwords.words('english')]\n",
    "    return sentence_words\n",
    "\n",
    "def dl_predict(sentence):\n",
    "    \n",
    "    # filter predictions below a threshold\n",
    "    bow = token.texts_to_matrix([clean_up_sentence(sentence)]) \n",
    "    res = dl_model.predict(bow)[0]\n",
    "    results = [[i,r] for i,r in enumerate(res) if r>.50]\n",
    "    \n",
    "    # sort by strength of probability\n",
    "    results.sort(key=lambda x: x[1], reverse=True)\n",
    "    return_list = {\"Intent\":classes[r[0]] for r in results}\n",
    "    return return_list\n"
   ]
  },
  {
   "cell_type": "code",
   "execution_count": 4,
   "id": "90686738",
   "metadata": {},
   "outputs": [
    {
     "name": "stdout",
     "output_type": "stream",
     "text": [
      "{'Intent': 'Iot'}\n",
      "{'Intent': 'Weather'}\n",
      "{'Intent': 'PlayMusic'}\n",
      "{'Intent': 'PlayMusic'}\n",
      "{'Intent': 'Greeting'}\n"
     ]
    }
   ],
   "source": [
    "sentences = ['open the door please' , 'how is the weather today' ,\n",
    "             'please play music by the beatles', \n",
    "             'please play the song I like','hi there']\n",
    "for sentence in sentences:\n",
    "    print(dl_predict(sentence))"
   ]
  },
  {
   "cell_type": "code",
   "execution_count": 5,
   "id": "0af3f7e6",
   "metadata": {},
   "outputs": [
    {
     "name": "stdout",
     "output_type": "stream",
     "text": [
      "{'Intent': 'Iot'}\n",
      "{'Intent': 'Weather'}\n",
      "{'Intent': 'PlayMusic'}\n",
      "{'Intent': 'PlayMusic'}\n",
      "{'Intent': 'Greeting'}\n"
     ]
    }
   ],
   "source": [
    "sentences = ['open the door please' , 'how is the weather today' ,\n",
    "             'please play music by the beatles',\n",
    "             'please play the song I like','hi there']\n",
    "for sentence in sentences:\n",
    "    print(ml_predict(sentence))"
   ]
  },
  {
   "cell_type": "markdown",
   "id": "ab58133d",
   "metadata": {},
   "source": [
    "-----------------------------------------------------------"
   ]
  },
  {
   "cell_type": "markdown",
   "id": "09cae1e7",
   "metadata": {},
   "source": [
    "## Get `Entities`"
   ]
  },
  {
   "cell_type": "code",
   "execution_count": 7,
   "id": "5bc79eab",
   "metadata": {},
   "outputs": [],
   "source": [
    "nlp = spacy.load(r'..\\Name Entity Recognition')\n",
    "\n",
    "def NER(sentence):\n",
    "    doc = nlp(sentence)\n",
    "    result = {ent.label_: ent.text for ent in doc.ents}        \n",
    "    return result\n",
    "    "
   ]
  },
  {
   "cell_type": "code",
   "execution_count": 7,
   "id": "b092cc74",
   "metadata": {},
   "outputs": [
    {
     "data": {
      "text/plain": [
       "{'location': 'berlin'}"
      ]
     },
     "execution_count": 7,
     "metadata": {},
     "output_type": "execute_result"
    }
   ],
   "source": [
    "NER('What is the weather in berlin?')"
   ]
  },
  {
   "cell_type": "code",
   "execution_count": 8,
   "id": "3072232b",
   "metadata": {},
   "outputs": [
    {
     "data": {
      "text/plain": [
       "{'artist': 'Cairokee'}"
      ]
     },
     "execution_count": 8,
     "metadata": {},
     "output_type": "execute_result"
    }
   ],
   "source": [
    "NER('play music for Cairokee') "
   ]
  },
  {
   "cell_type": "code",
   "execution_count": 9,
   "id": "8facdb16",
   "metadata": {},
   "outputs": [
    {
     "data": {
      "text/plain": [
       "{'action': 'dim', 'device': 'lights', 'room': 'bedroom'}"
      ]
     },
     "execution_count": 9,
     "metadata": {},
     "output_type": "execute_result"
    }
   ],
   "source": [
    "NER('dim lights in bedroom')"
   ]
  },
  {
   "cell_type": "code",
   "execution_count": 10,
   "id": "639f6c90",
   "metadata": {},
   "outputs": [
    {
     "data": {
      "text/plain": [
       "{'song_name': 'insan', 'artist': 'hamza namira'}"
      ]
     },
     "execution_count": 10,
     "metadata": {},
     "output_type": "execute_result"
    }
   ],
   "source": [
    "NER('play insan by hamza namira')"
   ]
  },
  {
   "cell_type": "code",
   "execution_count": 11,
   "id": "e8a6480f",
   "metadata": {},
   "outputs": [
    {
     "data": {
      "text/plain": [
       "{}"
      ]
     },
     "execution_count": 11,
     "metadata": {},
     "output_type": "execute_result"
    }
   ],
   "source": [
    "NER('what is the weather')"
   ]
  },
  {
   "cell_type": "markdown",
   "id": "b0e5428a",
   "metadata": {},
   "source": [
    "------------------------------\n"
   ]
  },
  {
   "cell_type": "markdown",
   "id": "22f0681d",
   "metadata": {},
   "source": [
    "## Final Function That Return `NLU` For Utterance"
   ]
  },
  {
   "cell_type": "code",
   "execution_count": 8,
   "id": "4431b7fe",
   "metadata": {},
   "outputs": [],
   "source": [
    "def NLU(sentence):\n",
    "    intent = dl_predict(sentence)\n",
    "    entity = NER(sentence)\n",
    "    \n",
    "    if entity == {}:\n",
    "        result = {'Intent': intent['Intent'],'Entities':None}\n",
    "    else:\n",
    "        result = {'Intent': intent['Intent'],'Entities':entity}\n",
    "        \n",
    "    return result\n",
    "    "
   ]
  },
  {
   "cell_type": "code",
   "execution_count": 20,
   "id": "698db757",
   "metadata": {},
   "outputs": [
    {
     "data": {
      "text/plain": [
       "{'Intent': 'Reminder', 'Entities': {'time': '7 am'}}"
      ]
     },
     "execution_count": 20,
     "metadata": {},
     "output_type": "execute_result"
    }
   ],
   "source": [
    "NLU('set an alarm for 7 am')"
   ]
  },
  {
   "cell_type": "code",
   "execution_count": 14,
   "id": "7fc2c486",
   "metadata": {},
   "outputs": [
    {
     "data": {
      "text/plain": [
       "{'Intent': 'Weather', 'Entities': {'date': 'today'}}"
      ]
     },
     "execution_count": 14,
     "metadata": {},
     "output_type": "execute_result"
    }
   ],
   "source": [
    "NLU('tell me how is the weather today')"
   ]
  },
  {
   "cell_type": "code",
   "execution_count": 15,
   "id": "ebe19c7c",
   "metadata": {},
   "outputs": [
    {
     "data": {
      "text/plain": [
       "{'Intent': 'Iot',\n",
       " 'Entities': {'action': 'dim', 'device': 'lights', 'room': 'bathroom'}}"
      ]
     },
     "execution_count": 15,
     "metadata": {},
     "output_type": "execute_result"
    }
   ],
   "source": [
    "NLU('dim lights in bathroom')"
   ]
  },
  {
   "cell_type": "code",
   "execution_count": 16,
   "id": "39b7524f",
   "metadata": {},
   "outputs": [
    {
     "data": {
      "text/plain": [
       "{'Intent': 'Weather', 'Entities': {'date': 'tomorrow'}}"
      ]
     },
     "execution_count": 16,
     "metadata": {},
     "output_type": "execute_result"
    }
   ],
   "source": [
    "NLU('hoe is the weather tomorrow?')"
   ]
  },
  {
   "cell_type": "code",
   "execution_count": 17,
   "id": "bcc5b1b3",
   "metadata": {},
   "outputs": [
    {
     "data": {
      "text/plain": [
       "{'Intent': 'Weather', 'Entities': None}"
      ]
     },
     "execution_count": 17,
     "metadata": {},
     "output_type": "execute_result"
    }
   ],
   "source": [
    "NLU('what is the weather')"
   ]
  },
  {
   "cell_type": "code",
   "execution_count": 18,
   "id": "9c42e242",
   "metadata": {},
   "outputs": [
    {
     "data": {
      "text/plain": [
       "{'Intent': 'Iot',\n",
       " 'Entities': {'device': 'lights', 'action': 'off', 'room': 'bedroom'}}"
      ]
     },
     "execution_count": 18,
     "metadata": {},
     "output_type": "execute_result"
    }
   ],
   "source": [
    "NLU('turn the lights off in bedroom')"
   ]
  },
  {
   "cell_type": "code",
   "execution_count": 19,
   "id": "888e2dd6",
   "metadata": {},
   "outputs": [
    {
     "data": {
      "text/plain": [
       "{'Intent': 'PlayMusic',\n",
       " 'Entities': {'song_name': 'shallow', 'artist': 'lady gaga'}}"
      ]
     },
     "execution_count": 19,
     "metadata": {},
     "output_type": "execute_result"
    }
   ],
   "source": [
    "NLU('play shallow by lady gaga')"
   ]
  },
  {
   "cell_type": "code",
   "execution_count": 10,
   "id": "3afa04da",
   "metadata": {},
   "outputs": [
    {
     "data": {
      "text/plain": [
       "{'Intent': 'Weather', 'Entities': {'date': 'today'}}"
      ]
     },
     "execution_count": 10,
     "metadata": {},
     "output_type": "execute_result"
    }
   ],
   "source": [
    "NLU('Hey leo how is the weather today')\n"
   ]
  },
  {
   "cell_type": "code",
   "execution_count": null,
   "id": "e383ddce",
   "metadata": {},
   "outputs": [],
   "source": []
  }
 ],
 "metadata": {
  "kernelspec": {
   "display_name": "Python 3.9.4 64-bit",
   "language": "python",
   "name": "python3"
  },
  "language_info": {
   "codemirror_mode": {
    "name": "ipython",
    "version": 3
   },
   "file_extension": ".py",
   "mimetype": "text/x-python",
   "name": "python",
   "nbconvert_exporter": "python",
   "pygments_lexer": "ipython3",
   "version": "3.9.4"
  },
  "vscode": {
   "interpreter": {
    "hash": "86725531a27c656369adc9e820b5111a81bf71344e24f16b86b0bfd7cff63833"
   }
  }
 },
 "nbformat": 4,
 "nbformat_minor": 5
}
