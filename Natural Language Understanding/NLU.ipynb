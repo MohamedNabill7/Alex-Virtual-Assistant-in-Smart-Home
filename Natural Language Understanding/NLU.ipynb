{
 "cells": [
  {
   "cell_type": "markdown",
   "id": "2b52981e",
   "metadata": {},
   "source": [
    "## Get `Intent`"
   ]
  },
  {
   "cell_type": "code",
   "execution_count": 1,
   "id": "cea4b9c6",
   "metadata": {},
   "outputs": [],
   "source": [
    "import pickle\n",
    "import numpy as np\n",
    "import json\n",
    "import random\n",
    "import spacy\n",
    "import nltk\n",
    "from nltk.stem import WordNetLemmatizer\n",
    "lemmatizer = WordNetLemmatizer()"
   ]
  },
  {
   "cell_type": "code",
   "execution_count": 2,
   "id": "b420bf42",
   "metadata": {},
   "outputs": [],
   "source": [
    "from keras.models import load_model\n",
    "\n",
    "model = load_model('Model.h5')\n",
    "\n",
    "intents = json.loads(open('intents.json').read())\n",
    "words = pickle.load(open('words.pkl','rb'))\n",
    "classes = pickle.load(open('classes.pkl','rb'))\n",
    "\n",
    "with open('classes.pkl','rb') as file:  \n",
    "    classes = pickle.load(file)\n",
    "\n",
    "with open('words.pkl','rb') as file:  \n",
    "    words = pickle.load(file)"
   ]
  },
  {
   "cell_type": "code",
   "execution_count": 3,
   "id": "9035db9e",
   "metadata": {},
   "outputs": [],
   "source": [
    "def clean_up_sentence(sentence):\n",
    "    # tokenize the pattern - split words into array\n",
    "    sentence_words = nltk.word_tokenize(sentence)\n",
    "    \n",
    "    # stem each word - create short form for word\n",
    "    sentence_words = [lemmatizer.lemmatize(word.lower()) for word in sentence_words]\n",
    "    return sentence_words\n",
    "\n",
    "# return bag of words array: 0 or 1 for each word in the bag that exists in the sentence\n",
    "def bow(sentence, words):\n",
    "    \n",
    "    # tokenize the pattern\n",
    "    sentence_words = clean_up_sentence(sentence)\n",
    "    \n",
    "    # bag of words - matrix of N words, vocabulary matrix\n",
    "    bag = [0]*len(words)  \n",
    "    for s in sentence_words:\n",
    "        for i,w in enumerate(words):\n",
    "            if w == s: \n",
    "                # assign 1 if current word is in the vocabulary position\n",
    "                bag[i] = 1\n",
    "                \n",
    "    return(np.array(bag))\n",
    "\n",
    "def predict_class(sentence, model):\n",
    "    \n",
    "    # filter out predictions below a threshold\n",
    "    p = bow(sentence, words)\n",
    "    res = model.predict(np.array([p]))[0]\n",
    "    ERROR_THRESHOLD = 0.25\n",
    "    results = [[i,r] for i,r in enumerate(res) if r>ERROR_THRESHOLD]\n",
    "    \n",
    "    # sort by strength of probability\n",
    "    results.sort(key=lambda x: x[1], reverse=True)\n",
    "    return_list = {\"intent\":classes[r[0]] for r in results}\n",
    "    return return_list"
   ]
  },
  {
   "cell_type": "code",
   "execution_count": 4,
   "id": "6fcebac3",
   "metadata": {},
   "outputs": [
    {
     "data": {
      "text/plain": [
       "{'intent': 'Weather'}"
      ]
     },
     "execution_count": 4,
     "metadata": {},
     "output_type": "execute_result"
    }
   ],
   "source": [
    "predict_class('What is the weather in cairo?',model)"
   ]
  },
  {
   "cell_type": "code",
   "execution_count": 5,
   "id": "0af3f7e6",
   "metadata": {},
   "outputs": [
    {
     "data": {
      "text/plain": [
       "{'intent': 'Info_Request'}"
      ]
     },
     "execution_count": 5,
     "metadata": {},
     "output_type": "execute_result"
    }
   ],
   "source": [
    "predict_class('Ask wikipedia about Electricity',model)"
   ]
  },
  {
   "cell_type": "markdown",
   "id": "ab58133d",
   "metadata": {},
   "source": [
    "-----------------------------------------------------------"
   ]
  },
  {
   "cell_type": "markdown",
   "id": "09cae1e7",
   "metadata": {},
   "source": [
    "## Get `Entities`"
   ]
  },
  {
   "cell_type": "code",
   "execution_count": 6,
   "id": "5bc79eab",
   "metadata": {},
   "outputs": [],
   "source": [
    "path = r\"C:\\Users\\Mohamed Nabil\\Documents\\Project\"\n",
    "nlp = spacy.load(path)\n",
    "\n",
    "def NER(sentence):\n",
    "    doc = nlp(sentence)\n",
    "    result = {ent.label_: ent.text for ent in doc.ents}        \n",
    "    return result\n",
    "    "
   ]
  },
  {
   "cell_type": "code",
   "execution_count": 7,
   "id": "b092cc74",
   "metadata": {},
   "outputs": [
    {
     "data": {
      "text/plain": [
       "{'location': 'berlin'}"
      ]
     },
     "execution_count": 7,
     "metadata": {},
     "output_type": "execute_result"
    }
   ],
   "source": [
    "NER('What is the weather in berlin?')"
   ]
  },
  {
   "cell_type": "code",
   "execution_count": 8,
   "id": "3072232b",
   "metadata": {},
   "outputs": [
    {
     "data": {
      "text/plain": [
       "{'artist': 'Cairokee'}"
      ]
     },
     "execution_count": 8,
     "metadata": {},
     "output_type": "execute_result"
    }
   ],
   "source": [
    "NER('play music for Cairokee') "
   ]
  },
  {
   "cell_type": "code",
   "execution_count": 9,
   "id": "8facdb16",
   "metadata": {},
   "outputs": [
    {
     "data": {
      "text/plain": [
       "{'light_off': 'dim', 'room_type': 'bedroom'}"
      ]
     },
     "execution_count": 9,
     "metadata": {},
     "output_type": "execute_result"
    }
   ],
   "source": [
    "NER('dim lights in bedroom')"
   ]
  },
  {
   "cell_type": "code",
   "execution_count": 10,
   "id": "639f6c90",
   "metadata": {},
   "outputs": [
    {
     "data": {
      "text/plain": [
       "{'song_name': 'insan', 'artist': 'hamza namira'}"
      ]
     },
     "execution_count": 10,
     "metadata": {},
     "output_type": "execute_result"
    }
   ],
   "source": [
    "NER('play insan by hamza namira')"
   ]
  },
  {
   "cell_type": "code",
   "execution_count": 11,
   "id": "e8a6480f",
   "metadata": {},
   "outputs": [
    {
     "data": {
      "text/plain": [
       "{}"
      ]
     },
     "execution_count": 11,
     "metadata": {},
     "output_type": "execute_result"
    }
   ],
   "source": [
    "NER('what is the weather')"
   ]
  },
  {
   "cell_type": "markdown",
   "id": "b0e5428a",
   "metadata": {},
   "source": [
    "------------------------------\n"
   ]
  },
  {
   "cell_type": "markdown",
   "id": "22f0681d",
   "metadata": {},
   "source": [
    "## Final Function That Return `NLU` For Utterance"
   ]
  },
  {
   "cell_type": "code",
   "execution_count": 12,
   "id": "4431b7fe",
   "metadata": {},
   "outputs": [],
   "source": [
    "def NLU(sentence):\n",
    "    intent = predict_class(sentence,model)\n",
    "    entity = NER(sentence)\n",
    "    \n",
    "    if entity == {}:\n",
    "        result = {'Intent': intent['intent'],'Entities':None}\n",
    "    else:\n",
    "        result = {'Intent': intent['intent'],'Entities':entity}\n",
    "        \n",
    "    return result\n",
    "    "
   ]
  },
  {
   "cell_type": "code",
   "execution_count": 13,
   "id": "698db757",
   "metadata": {},
   "outputs": [
    {
     "data": {
      "text/plain": [
       "{'Intent': 'Alarm', 'Entities': {'time': 'seven am'}}"
      ]
     },
     "execution_count": 13,
     "metadata": {},
     "output_type": "execute_result"
    }
   ],
   "source": [
    "NLU('set an alarm for seven am')"
   ]
  },
  {
   "cell_type": "code",
   "execution_count": 14,
   "id": "7fc2c486",
   "metadata": {},
   "outputs": [
    {
     "data": {
      "text/plain": [
       "{'Intent': 'Weather', 'Entities': {'date': 'today'}}"
      ]
     },
     "execution_count": 14,
     "metadata": {},
     "output_type": "execute_result"
    }
   ],
   "source": [
    "NLU('tell me how is the weather today')"
   ]
  },
  {
   "cell_type": "code",
   "execution_count": 15,
   "id": "ebe19c7c",
   "metadata": {},
   "outputs": [
    {
     "data": {
      "text/plain": [
       "{'Intent': 'Iot', 'Entities': {'light_off': 'dim', 'room_type': 'bathroom'}}"
      ]
     },
     "execution_count": 15,
     "metadata": {},
     "output_type": "execute_result"
    }
   ],
   "source": [
    "NLU('dim lights in bathroom')"
   ]
  },
  {
   "cell_type": "code",
   "execution_count": 16,
   "id": "39b7524f",
   "metadata": {},
   "outputs": [
    {
     "data": {
      "text/plain": [
       "{'Intent': 'Weather', 'Entities': {'date': 'tomorrow'}}"
      ]
     },
     "execution_count": 16,
     "metadata": {},
     "output_type": "execute_result"
    }
   ],
   "source": [
    "NLU('hoe is the weather tomorrow?')"
   ]
  },
  {
   "cell_type": "code",
   "execution_count": 17,
   "id": "bcc5b1b3",
   "metadata": {},
   "outputs": [
    {
     "data": {
      "text/plain": [
       "{'Intent': 'Weather', 'Entities': None}"
      ]
     },
     "execution_count": 17,
     "metadata": {},
     "output_type": "execute_result"
    }
   ],
   "source": [
    "NLU('what is the weather')"
   ]
  },
  {
   "cell_type": "code",
   "execution_count": 18,
   "id": "9c42e242",
   "metadata": {},
   "outputs": [
    {
     "data": {
      "text/plain": [
       "{'Intent': 'Iot',\n",
       " 'Entities': {'light_off': 'lights off', 'room_type': 'bedroom'}}"
      ]
     },
     "execution_count": 18,
     "metadata": {},
     "output_type": "execute_result"
    }
   ],
   "source": [
    "NLU('turn the lights off in bedroom')"
   ]
  },
  {
   "cell_type": "code",
   "execution_count": 19,
   "id": "888e2dd6",
   "metadata": {},
   "outputs": [
    {
     "data": {
      "text/plain": [
       "{'Intent': 'PlayMusic',\n",
       " 'Entities': {'song_name': 'shallow', 'artist': 'lady gaga'}}"
      ]
     },
     "execution_count": 19,
     "metadata": {},
     "output_type": "execute_result"
    }
   ],
   "source": [
    "NLU('play shallow by lady gaga')"
   ]
  }
 ],
 "metadata": {
  "kernelspec": {
   "display_name": "Python 3",
   "language": "python",
   "name": "python3"
  },
  "language_info": {
   "codemirror_mode": {
    "name": "ipython",
    "version": 3
   },
   "file_extension": ".py",
   "mimetype": "text/x-python",
   "name": "python",
   "nbconvert_exporter": "python",
   "pygments_lexer": "ipython3",
   "version": "3.8.8"
  }
 },
 "nbformat": 4,
 "nbformat_minor": 5
}
